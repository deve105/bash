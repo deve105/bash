{
 "cells": [
  {
   "cell_type": "markdown",
   "metadata": {},
   "source": [
    "#### Biopython: Entrez interface\n",
    "\n",
    "Links\n",
    "  * https://github.com/lanadominkovic/12-days-of-biopython/blob/main/12_days_of_biopython/day_02/day_02-accessing-ncbi-databases.ipynb\n",
    "  * https://people.duke.edu/~ccc14/pcfb/biopython/BiopythonEntrez.html\n",
    "https://biopython-tutorial.readthedocs.io/en/latest/notebooks/09%20-%20Accessing%20NCBIs%20Entrez%20databases.html\n",
    "* https://www.youtube.com/watch?v=YPcyNSoucNs\n",
    "* https://biopython-tutorial.readthedocs.io/en/latest/notebooks/09%20-%20Accessing%20NCBIs%20Entrez%20databases.html#EFetch:-Downloading-full-records-from-Entrez\n",
    "* https://colab.research.google.com/drive/1KmsomBZD1VBqb3Y-Xg-mMjLawbAYsLMX?usp=sharing\n",
    "\n",
    "\n",
    "Lots of sources\n",
    "*  https://github.com/crazyhottommy/getting-started-with-genomics-tools-and-resources\n",
    "https://github.com/hbctraining/Training-modules\n",
    "\n",
    " - Tips: \n",
    "   - always use an email.\n",
    "   - no multiple requests (peak time 9AM-5PM ET)\n",
    "\n",
    "task: efetch (download)\n",
    "identifier: accession number, GI numer (id)\n",
    "database: nuccore, medline, etc\n",
    "output: rettype (fasta, genbank, etc)\n",
    "display: retmode (text, xml, etc)\n",
    "\n",
    "Dictionary {'key1':\"value1\",'key2':\"value2, ...}\n",
    "List []\n",
    "\n",
    "using datasets 7906 sequences obtained\n",
    "after seqkit 6000-10000 filter 336 sequences"
   ]
  },
  {
   "cell_type": "code",
   "execution_count": null,
   "metadata": {},
   "outputs": [],
   "source": [
    "#%%capture #to omit output\n",
    "#install biopython and upgrade pip (just in case)\n",
    "%pip install --upgrade pip\n",
    "%pip install biopython"
   ]
  },
  {
   "cell_type": "code",
   "execution_count": 5,
   "metadata": {},
   "outputs": [],
   "source": [
    "#1. import modules\n",
    "from Bio import Entrez, SeqIO, Medline, Seq\n",
    "import numpy as np\n",
    "\n",
    "#To use our email\n",
    "Entrez.email= \"K5426020@kadai.jp\"\n",
    "#Entrez.email = \"A.N.Other@example.com\"\n",
    "Entrez.api_key = \"4a2ea68aa6ce498eecead48bfb95bce4cc0a\""
   ]
  },
  {
   "cell_type": "code",
   "execution_count": 6,
   "metadata": {},
   "outputs": [
    {
     "name": "stdout",
     "output_type": "stream",
     "text": [
      "1.81\n",
      "<http.client.HTTPResponse object at 0x00000203D32BADC0>\n",
      "{'DbList': ['pubmed', 'protein', 'nuccore', 'ipg', 'nucleotide', 'structure', 'genome', 'annotinfo', 'assembly', 'bioproject', 'biosample', 'blastdbinfo', 'books', 'cdd', 'clinvar', 'gap', 'gapplus', 'grasp', 'dbvar', 'gene', 'gds', 'geoprofiles', 'homologene', 'medgen', 'mesh', 'nlmcatalog', 'omim', 'orgtrack', 'pmc', 'popset', 'proteinclusters', 'pcassay', 'protfam', 'pccompound', 'pcsubstance', 'seqannot', 'snp', 'sra', 'taxonomy', 'biocollections', 'gtr']}\n",
      "dict_keys(['DbList'])\n",
      "['pubmed', 'protein', 'nuccore', 'ipg', 'nucleotide', 'structure', 'genome', 'annotinfo', 'assembly', 'bioproject', 'biosample', 'blastdbinfo', 'books', 'cdd', 'clinvar', 'gap', 'gapplus', 'grasp', 'dbvar', 'gene', 'gds', 'geoprofiles', 'homologene', 'medgen', 'mesh', 'nlmcatalog', 'omim', 'orgtrack', 'pmc', 'popset', 'proteinclusters', 'pcassay', 'protfam', 'pccompound', 'pcsubstance', 'seqannot', 'snp', 'sra', 'taxonomy', 'biocollections', 'gtr']\n",
      "dict_keys(['DbInfo'])\n",
      "\n",
      "\n",
      "{'DbName': 'nuccore', 'MenuName': 'Nucleotide', 'Description': 'Core Nucleotide db', 'DbBuild': 'Build231118-1110m.1', 'Count': '612205427', 'LastUpdate': '2023/11/19 21:11', 'FieldList': [{'Name': 'ALL', 'FullName': 'All Fields', 'Description': 'All terms from all searchable fields', 'TermCount': '13245726362', 'IsDate': 'N', 'IsNumerical': 'N', 'SingleToken': 'N', 'Hierarchy': 'N', 'IsHidden': 'N'}, {'Name': 'UID', 'FullName': 'UID', 'Description': 'Unique number assigned to each sequence', 'TermCount': '0', 'IsDate': 'N', 'IsNumerical': 'Y', 'SingleToken': 'Y', 'Hierarchy': 'N', 'IsHidden': 'Y'}, {'Name': 'FILT', 'FullName': 'Filter', 'Description': 'Limits the records', 'TermCount': '421', 'IsDate': 'N', 'IsNumerical': 'N', 'SingleToken': 'Y', 'Hierarchy': 'N', 'IsHidden': 'N'}, {'Name': 'WORD', 'FullName': 'Text Word', 'Description': 'Free text associated with record', 'TermCount': '2724184790', 'IsDate': 'N', 'IsNumerical': 'N', 'SingleToken': 'N', 'Hierarchy': 'N', 'IsHidden': 'N'}, {'Name': 'TITL', 'FullName': 'Title', 'Description': 'Words in definition line', 'TermCount': '468603413', 'IsDate': 'N', 'IsNumerical': 'N', 'SingleToken': 'N', 'Hierarchy': 'N', 'IsHidden': 'N'}, {'Name': 'KYWD', 'FullName': 'Keyword', 'Description': 'Nonstandardized terms provided by submitter', 'TermCount': '23992837', 'IsDate': 'N', 'IsNumerical': 'N', 'SingleToken': 'Y', 'Hierarchy': 'N', 'IsHidden': 'N'}, {'Name': 'AUTH', 'FullName': 'Author', 'Description': 'Author(s) of publication', 'TermCount': '3515960', 'IsDate': 'N', 'IsNumerical': 'N', 'SingleToken': 'Y', 'Hierarchy': 'N', 'IsHidden': 'N'}, {'Name': 'JOUR', 'FullName': 'Journal', 'Description': 'Journal abbreviation of publication', 'TermCount': '29672', 'IsDate': 'N', 'IsNumerical': 'N', 'SingleToken': 'Y', 'Hierarchy': 'N', 'IsHidden': 'N'}, {'Name': 'VOL', 'FullName': 'Volume', 'Description': 'Volume number of publication', 'TermCount': '4285', 'IsDate': 'N', 'IsNumerical': 'N', 'SingleToken': 'Y', 'Hierarchy': 'N', 'IsHidden': 'N'}, {'Name': 'ISS', 'FullName': 'Issue', 'Description': 'Issue number of publication', 'TermCount': '4825', 'IsDate': 'N', 'IsNumerical': 'N', 'SingleToken': 'Y', 'Hierarchy': 'N', 'IsHidden': 'N'}, {'Name': 'PAGE', 'FullName': 'Page Number', 'Description': 'Page number(s) of publication', 'TermCount': '200102', 'IsDate': 'N', 'IsNumerical': 'N', 'SingleToken': 'Y', 'Hierarchy': 'N', 'IsHidden': 'N'}, {'Name': 'ORGN', 'FullName': 'Organism', 'Description': 'Scientific and common names of organism, and all higher levels of taxonomy', 'TermCount': '6150916', 'IsDate': 'N', 'IsNumerical': 'N', 'SingleToken': 'Y', 'Hierarchy': 'Y', 'IsHidden': 'N'}, {'Name': 'ACCN', 'FullName': 'Accession', 'Description': 'Accession number of sequence', 'TermCount': '1255204152', 'IsDate': 'N', 'IsNumerical': 'N', 'SingleToken': 'Y', 'Hierarchy': 'N', 'IsHidden': 'N'}, {'Name': 'PACC', 'FullName': 'Primary Accession', 'Description': 'Does not include retired secondary accessions', 'TermCount': '1226130050', 'IsDate': 'N', 'IsNumerical': 'N', 'SingleToken': 'Y', 'Hierarchy': 'N', 'IsHidden': 'N'}, {'Name': 'GENE', 'FullName': 'Gene Name', 'Description': 'Name of gene associated with sequence', 'TermCount': '9704033755', 'IsDate': 'N', 'IsNumerical': 'N', 'SingleToken': 'Y', 'Hierarchy': 'N', 'IsHidden': 'N'}, {'Name': 'PROT', 'FullName': 'Protein Name', 'Description': 'Name of protein associated with sequence', 'TermCount': '10749765', 'IsDate': 'N', 'IsNumerical': 'N', 'SingleToken': 'Y', 'Hierarchy': 'N', 'IsHidden': 'N'}, {'Name': 'ECNO', 'FullName': 'EC/RN Number', 'Description': 'EC number for enzyme or CAS registry number', 'TermCount': '6273', 'IsDate': 'N', 'IsNumerical': 'N', 'SingleToken': 'Y', 'Hierarchy': 'N', 'IsHidden': 'N'}, {'Name': 'PDAT', 'FullName': 'Publication Date', 'Description': 'Date sequence added to GenBank', 'TermCount': '12832', 'IsDate': 'Y', 'IsNumerical': 'N', 'SingleToken': 'Y', 'Hierarchy': 'N', 'IsHidden': 'N'}, {'Name': 'MDAT', 'FullName': 'Modification Date', 'Description': 'Date of last update', 'TermCount': '9402', 'IsDate': 'Y', 'IsNumerical': 'N', 'SingleToken': 'Y', 'Hierarchy': 'N', 'IsHidden': 'N'}, {'Name': 'SUBS', 'FullName': 'Substance Name', 'Description': 'CAS chemical name or MEDLINE Substance Name', 'TermCount': '243319', 'IsDate': 'N', 'IsNumerical': 'N', 'SingleToken': 'Y', 'Hierarchy': 'N', 'IsHidden': 'N'}, {'Name': 'PROP', 'FullName': 'Properties', 'Description': 'Classification by source qualifiers and molecule type', 'TermCount': '68000', 'IsDate': 'N', 'IsNumerical': 'N', 'SingleToken': 'Y', 'Hierarchy': 'N', 'IsHidden': 'N'}, {'Name': 'SQID', 'FullName': 'SeqID String', 'Description': 'String identifier for sequence', 'TermCount': '361446066', 'IsDate': 'N', 'IsNumerical': 'N', 'SingleToken': 'Y', 'Hierarchy': 'N', 'IsHidden': 'N'}, {'Name': 'GPRJ', 'FullName': 'BioProject', 'Description': 'BioProject', 'TermCount': '261411', 'IsDate': 'N', 'IsNumerical': 'N', 'SingleToken': 'Y', 'Hierarchy': 'Y', 'IsHidden': 'N'}, {'Name': 'SLEN', 'FullName': 'Sequence Length', 'Description': 'Length of sequence', 'TermCount': '1464501', 'IsDate': 'N', 'IsNumerical': 'Y', 'SingleToken': 'Y', 'Hierarchy': 'N', 'IsHidden': 'N'}, {'Name': 'FKEY', 'FullName': 'Feature key', 'Description': 'Feature annotated on sequence', 'TermCount': '456', 'IsDate': 'N', 'IsNumerical': 'N', 'SingleToken': 'Y', 'Hierarchy': 'N', 'IsHidden': 'N'}, {'Name': 'PORG', 'FullName': 'Primary Organism', 'Description': 'Scientific and common names of primary organism, and all higher levels of taxonomy', 'TermCount': '6148505', 'IsDate': 'N', 'IsNumerical': 'N', 'SingleToken': 'Y', 'Hierarchy': 'Y', 'IsHidden': 'N'}, {'Name': 'COMP', 'FullName': 'Component Accession', 'Description': 'Component accessions for an assembly', 'TermCount': '206884198', 'IsDate': 'N', 'IsNumerical': 'N', 'SingleToken': 'Y', 'Hierarchy': 'N', 'IsHidden': 'N'}, {'Name': 'ASSM', 'FullName': 'Assembly', 'Description': 'Assembly', 'TermCount': '328823', 'IsDate': 'N', 'IsNumerical': 'N', 'SingleToken': 'Y', 'Hierarchy': 'N', 'IsHidden': 'N'}, {'Name': 'DIV', 'FullName': 'Division', 'Description': 'Division', 'TermCount': '19', 'IsDate': 'N', 'IsNumerical': 'N', 'SingleToken': 'Y', 'Hierarchy': 'N', 'IsHidden': 'N'}, {'Name': 'STRN', 'FullName': 'Strain', 'Description': 'Strain', 'TermCount': '3374568', 'IsDate': 'N', 'IsNumerical': 'N', 'SingleToken': 'Y', 'Hierarchy': 'N', 'IsHidden': 'N'}, {'Name': 'ISOL', 'FullName': 'Isolate', 'Description': 'Isolate', 'TermCount': '9960121', 'IsDate': 'N', 'IsNumerical': 'N', 'SingleToken': 'Y', 'Hierarchy': 'N', 'IsHidden': 'N'}, {'Name': 'CULT', 'FullName': 'Cultivar', 'Description': 'Cultivar', 'TermCount': '43085', 'IsDate': 'N', 'IsNumerical': 'N', 'SingleToken': 'Y', 'Hierarchy': 'N', 'IsHidden': 'N'}, {'Name': 'BRD', 'FullName': 'Breed', 'Description': 'Breed', 'TermCount': '6688', 'IsDate': 'N', 'IsNumerical': 'N', 'SingleToken': 'Y', 'Hierarchy': 'N', 'IsHidden': 'N'}, {'Name': 'BIOS', 'FullName': 'BioSample', 'Description': 'BioSample', 'TermCount': '8912580', 'IsDate': 'N', 'IsNumerical': 'N', 'SingleToken': 'Y', 'Hierarchy': 'N', 'IsHidden': 'N'}], 'LinkList': [{'Name': 'nucleotide_genome', 'Menu': 'Assembly to Genome', 'Description': 'Genome record containing nucleotide sequence', 'DbTo': 'genome'}]}\n",
      "Core Nucleotide db\n",
      "Description:  Core Nucleotide db\n",
      "dict_keys(['DbName', 'MenuName', 'Description', 'DbBuild', 'Count', 'LastUpdate', 'FieldList', 'LinkList'])\n",
      "[{'Name': 'ALL', 'FullName': 'All Fields', 'Description': 'All terms from all searchable fields', 'TermCount': '13245726362', 'IsDate': 'N', 'IsNumerical': 'N', 'SingleToken': 'N', 'Hierarchy': 'N', 'IsHidden': 'N'}, {'Name': 'UID', 'FullName': 'UID', 'Description': 'Unique number assigned to each sequence', 'TermCount': '0', 'IsDate': 'N', 'IsNumerical': 'Y', 'SingleToken': 'Y', 'Hierarchy': 'N', 'IsHidden': 'Y'}, {'Name': 'FILT', 'FullName': 'Filter', 'Description': 'Limits the records', 'TermCount': '421', 'IsDate': 'N', 'IsNumerical': 'N', 'SingleToken': 'Y', 'Hierarchy': 'N', 'IsHidden': 'N'}, {'Name': 'WORD', 'FullName': 'Text Word', 'Description': 'Free text associated with record', 'TermCount': '2724184790', 'IsDate': 'N', 'IsNumerical': 'N', 'SingleToken': 'N', 'Hierarchy': 'N', 'IsHidden': 'N'}, {'Name': 'TITL', 'FullName': 'Title', 'Description': 'Words in definition line', 'TermCount': '468603413', 'IsDate': 'N', 'IsNumerical': 'N', 'SingleToken': 'N', 'Hierarchy': 'N', 'IsHidden': 'N'}, {'Name': 'KYWD', 'FullName': 'Keyword', 'Description': 'Nonstandardized terms provided by submitter', 'TermCount': '23992837', 'IsDate': 'N', 'IsNumerical': 'N', 'SingleToken': 'Y', 'Hierarchy': 'N', 'IsHidden': 'N'}, {'Name': 'AUTH', 'FullName': 'Author', 'Description': 'Author(s) of publication', 'TermCount': '3515960', 'IsDate': 'N', 'IsNumerical': 'N', 'SingleToken': 'Y', 'Hierarchy': 'N', 'IsHidden': 'N'}, {'Name': 'JOUR', 'FullName': 'Journal', 'Description': 'Journal abbreviation of publication', 'TermCount': '29672', 'IsDate': 'N', 'IsNumerical': 'N', 'SingleToken': 'Y', 'Hierarchy': 'N', 'IsHidden': 'N'}, {'Name': 'VOL', 'FullName': 'Volume', 'Description': 'Volume number of publication', 'TermCount': '4285', 'IsDate': 'N', 'IsNumerical': 'N', 'SingleToken': 'Y', 'Hierarchy': 'N', 'IsHidden': 'N'}, {'Name': 'ISS', 'FullName': 'Issue', 'Description': 'Issue number of publication', 'TermCount': '4825', 'IsDate': 'N', 'IsNumerical': 'N', 'SingleToken': 'Y', 'Hierarchy': 'N', 'IsHidden': 'N'}, {'Name': 'PAGE', 'FullName': 'Page Number', 'Description': 'Page number(s) of publication', 'TermCount': '200102', 'IsDate': 'N', 'IsNumerical': 'N', 'SingleToken': 'Y', 'Hierarchy': 'N', 'IsHidden': 'N'}, {'Name': 'ORGN', 'FullName': 'Organism', 'Description': 'Scientific and common names of organism, and all higher levels of taxonomy', 'TermCount': '6150916', 'IsDate': 'N', 'IsNumerical': 'N', 'SingleToken': 'Y', 'Hierarchy': 'Y', 'IsHidden': 'N'}, {'Name': 'ACCN', 'FullName': 'Accession', 'Description': 'Accession number of sequence', 'TermCount': '1255204152', 'IsDate': 'N', 'IsNumerical': 'N', 'SingleToken': 'Y', 'Hierarchy': 'N', 'IsHidden': 'N'}, {'Name': 'PACC', 'FullName': 'Primary Accession', 'Description': 'Does not include retired secondary accessions', 'TermCount': '1226130050', 'IsDate': 'N', 'IsNumerical': 'N', 'SingleToken': 'Y', 'Hierarchy': 'N', 'IsHidden': 'N'}, {'Name': 'GENE', 'FullName': 'Gene Name', 'Description': 'Name of gene associated with sequence', 'TermCount': '9704033755', 'IsDate': 'N', 'IsNumerical': 'N', 'SingleToken': 'Y', 'Hierarchy': 'N', 'IsHidden': 'N'}, {'Name': 'PROT', 'FullName': 'Protein Name', 'Description': 'Name of protein associated with sequence', 'TermCount': '10749765', 'IsDate': 'N', 'IsNumerical': 'N', 'SingleToken': 'Y', 'Hierarchy': 'N', 'IsHidden': 'N'}, {'Name': 'ECNO', 'FullName': 'EC/RN Number', 'Description': 'EC number for enzyme or CAS registry number', 'TermCount': '6273', 'IsDate': 'N', 'IsNumerical': 'N', 'SingleToken': 'Y', 'Hierarchy': 'N', 'IsHidden': 'N'}, {'Name': 'PDAT', 'FullName': 'Publication Date', 'Description': 'Date sequence added to GenBank', 'TermCount': '12832', 'IsDate': 'Y', 'IsNumerical': 'N', 'SingleToken': 'Y', 'Hierarchy': 'N', 'IsHidden': 'N'}, {'Name': 'MDAT', 'FullName': 'Modification Date', 'Description': 'Date of last update', 'TermCount': '9402', 'IsDate': 'Y', 'IsNumerical': 'N', 'SingleToken': 'Y', 'Hierarchy': 'N', 'IsHidden': 'N'}, {'Name': 'SUBS', 'FullName': 'Substance Name', 'Description': 'CAS chemical name or MEDLINE Substance Name', 'TermCount': '243319', 'IsDate': 'N', 'IsNumerical': 'N', 'SingleToken': 'Y', 'Hierarchy': 'N', 'IsHidden': 'N'}, {'Name': 'PROP', 'FullName': 'Properties', 'Description': 'Classification by source qualifiers and molecule type', 'TermCount': '68000', 'IsDate': 'N', 'IsNumerical': 'N', 'SingleToken': 'Y', 'Hierarchy': 'N', 'IsHidden': 'N'}, {'Name': 'SQID', 'FullName': 'SeqID String', 'Description': 'String identifier for sequence', 'TermCount': '361446066', 'IsDate': 'N', 'IsNumerical': 'N', 'SingleToken': 'Y', 'Hierarchy': 'N', 'IsHidden': 'N'}, {'Name': 'GPRJ', 'FullName': 'BioProject', 'Description': 'BioProject', 'TermCount': '261411', 'IsDate': 'N', 'IsNumerical': 'N', 'SingleToken': 'Y', 'Hierarchy': 'Y', 'IsHidden': 'N'}, {'Name': 'SLEN', 'FullName': 'Sequence Length', 'Description': 'Length of sequence', 'TermCount': '1464501', 'IsDate': 'N', 'IsNumerical': 'Y', 'SingleToken': 'Y', 'Hierarchy': 'N', 'IsHidden': 'N'}, {'Name': 'FKEY', 'FullName': 'Feature key', 'Description': 'Feature annotated on sequence', 'TermCount': '456', 'IsDate': 'N', 'IsNumerical': 'N', 'SingleToken': 'Y', 'Hierarchy': 'N', 'IsHidden': 'N'}, {'Name': 'PORG', 'FullName': 'Primary Organism', 'Description': 'Scientific and common names of primary organism, and all higher levels of taxonomy', 'TermCount': '6148505', 'IsDate': 'N', 'IsNumerical': 'N', 'SingleToken': 'Y', 'Hierarchy': 'Y', 'IsHidden': 'N'}, {'Name': 'COMP', 'FullName': 'Component Accession', 'Description': 'Component accessions for an assembly', 'TermCount': '206884198', 'IsDate': 'N', 'IsNumerical': 'N', 'SingleToken': 'Y', 'Hierarchy': 'N', 'IsHidden': 'N'}, {'Name': 'ASSM', 'FullName': 'Assembly', 'Description': 'Assembly', 'TermCount': '328823', 'IsDate': 'N', 'IsNumerical': 'N', 'SingleToken': 'Y', 'Hierarchy': 'N', 'IsHidden': 'N'}, {'Name': 'DIV', 'FullName': 'Division', 'Description': 'Division', 'TermCount': '19', 'IsDate': 'N', 'IsNumerical': 'N', 'SingleToken': 'Y', 'Hierarchy': 'N', 'IsHidden': 'N'}, {'Name': 'STRN', 'FullName': 'Strain', 'Description': 'Strain', 'TermCount': '3374568', 'IsDate': 'N', 'IsNumerical': 'N', 'SingleToken': 'Y', 'Hierarchy': 'N', 'IsHidden': 'N'}, {'Name': 'ISOL', 'FullName': 'Isolate', 'Description': 'Isolate', 'TermCount': '9960121', 'IsDate': 'N', 'IsNumerical': 'N', 'SingleToken': 'Y', 'Hierarchy': 'N', 'IsHidden': 'N'}, {'Name': 'CULT', 'FullName': 'Cultivar', 'Description': 'Cultivar', 'TermCount': '43085', 'IsDate': 'N', 'IsNumerical': 'N', 'SingleToken': 'Y', 'Hierarchy': 'N', 'IsHidden': 'N'}, {'Name': 'BRD', 'FullName': 'Breed', 'Description': 'Breed', 'TermCount': '6688', 'IsDate': 'N', 'IsNumerical': 'N', 'SingleToken': 'Y', 'Hierarchy': 'N', 'IsHidden': 'N'}, {'Name': 'BIOS', 'FullName': 'BioSample', 'Description': 'BioSample', 'TermCount': '8912580', 'IsDate': 'N', 'IsNumerical': 'N', 'SingleToken': 'Y', 'Hierarchy': 'N', 'IsHidden': 'N'}]\n",
      "ALL,All Fields, All terms from all searchable fields\n",
      "UID,UID, Unique number assigned to each sequence\n",
      "FILT,Filter, Limits the records\n",
      "WORD,Text Word, Free text associated with record\n",
      "TITL,Title, Words in definition line\n",
      "KYWD,Keyword, Nonstandardized terms provided by submitter\n",
      "AUTH,Author, Author(s) of publication\n",
      "JOUR,Journal, Journal abbreviation of publication\n",
      "VOL,Volume, Volume number of publication\n",
      "ISS,Issue, Issue number of publication\n",
      "PAGE,Page Number, Page number(s) of publication\n",
      "ORGN,Organism, Scientific and common names of organism, and all higher levels of taxonomy\n",
      "ACCN,Accession, Accession number of sequence\n",
      "PACC,Primary Accession, Does not include retired secondary accessions\n",
      "GENE,Gene Name, Name of gene associated with sequence\n",
      "PROT,Protein Name, Name of protein associated with sequence\n",
      "ECNO,EC/RN Number, EC number for enzyme or CAS registry number\n",
      "PDAT,Publication Date, Date sequence added to GenBank\n",
      "MDAT,Modification Date, Date of last update\n",
      "SUBS,Substance Name, CAS chemical name or MEDLINE Substance Name\n",
      "PROP,Properties, Classification by source qualifiers and molecule type\n",
      "SQID,SeqID String, String identifier for sequence\n",
      "GPRJ,BioProject, BioProject\n",
      "SLEN,Sequence Length, Length of sequence\n",
      "FKEY,Feature key, Feature annotated on sequence\n",
      "PORG,Primary Organism, Scientific and common names of primary organism, and all higher levels of taxonomy\n",
      "COMP,Component Accession, Component accessions for an assembly\n",
      "ASSM,Assembly, Assembly\n",
      "DIV,Division, Division\n",
      "STRN,Strain, Strain\n",
      "ISOL,Isolate, Isolate\n",
      "CULT,Cultivar, Cultivar\n",
      "BRD,Breed, Breed\n",
      "BIOS,BioSample, BioSample\n"
     ]
    }
   ],
   "source": [
    "#To know which Biopython we have installed\n",
    "import Bio\n",
    "print(Bio.__version__)\n",
    "#To get the list of databases\n",
    "handle = Entrez.einfo() # get the information, which URL we used\n",
    "print(handle)\n",
    "records = Entrez.read(handle)\n",
    "print(records) #Dictionary\n",
    "\n",
    "print(records.keys()) #Key options available\n",
    "print(records['DbList']) #List of databases or values for this key\n",
    "\n",
    "#to know more about the database to make an advance query\n",
    "handle=Entrez.einfo(db=\"nucleotide\")\n",
    "record=Entrez.read(handle)\n",
    "handle.close\n",
    "print(record.keys())\n",
    "print('\\n') #a line\n",
    "print(record['DbInfo'])\n",
    "print(record[\"DbInfo\"][\"Description\"])\n",
    "print(\"Description: \",record[\"DbInfo\"][\"Description\"])\n",
    "print(record[\"DbInfo\"].keys())\n",
    "print(record['DbInfo']['FieldList'])\n",
    "for field in record[\"DbInfo\"][\"FieldList\"]:\n",
    "    print(\"%(Name)s,%(FullName)s, %(Description)s\" % field)\n"
   ]
  },
  {
   "cell_type": "code",
   "execution_count": 2,
   "metadata": {},
   "outputs": [
    {
     "ename": "HTTPError",
     "evalue": "HTTP Error 500: Internal Server Error",
     "output_type": "error",
     "traceback": [
      "\u001b[1;31m---------------------------------------------------------------------------\u001b[0m",
      "\u001b[1;31mHTTPError\u001b[0m                                 Traceback (most recent call last)",
      "\u001b[1;32mc:\\Users\\81805\\OneDrive\\vscode\\python_ncbisearch_1120.ipynb Cell 5\u001b[0m line \u001b[0;36m<cell line: 2>\u001b[1;34m()\u001b[0m\n\u001b[0;32m      <a href='vscode-notebook-cell:/c%3A/Users/81805/OneDrive/vscode/python_ncbisearch_1120.ipynb#W4sZmlsZQ%3D%3D?line=0'>1</a>\u001b[0m \u001b[39m#to know more about pubmed\u001b[39;00m\n\u001b[1;32m----> <a href='vscode-notebook-cell:/c%3A/Users/81805/OneDrive/vscode/python_ncbisearch_1120.ipynb#W4sZmlsZQ%3D%3D?line=1'>2</a>\u001b[0m handle\u001b[39m=\u001b[39mEntrez\u001b[39m.\u001b[39;49meinfo(db\u001b[39m=\u001b[39;49m\u001b[39m\"\u001b[39;49m\u001b[39mpubmed\u001b[39;49m\u001b[39m\"\u001b[39;49m)\n\u001b[0;32m      <a href='vscode-notebook-cell:/c%3A/Users/81805/OneDrive/vscode/python_ncbisearch_1120.ipynb#W4sZmlsZQ%3D%3D?line=2'>3</a>\u001b[0m record\u001b[39m=\u001b[39mEntrez\u001b[39m.\u001b[39mread(handle)\n\u001b[0;32m      <a href='vscode-notebook-cell:/c%3A/Users/81805/OneDrive/vscode/python_ncbisearch_1120.ipynb#W4sZmlsZQ%3D%3D?line=3'>4</a>\u001b[0m record[\u001b[39m\"\u001b[39m\u001b[39mDbInfo\u001b[39m\u001b[39m\"\u001b[39m][\u001b[39m\"\u001b[39m\u001b[39mDescription\u001b[39m\u001b[39m\"\u001b[39m]\n",
      "File \u001b[1;32mc:\\Users\\81805\\anaconda3\\lib\\site-packages\\Bio\\Entrez\\__init__.py:303\u001b[0m, in \u001b[0;36meinfo\u001b[1;34m(**keywds)\u001b[0m\n\u001b[0;32m    301\u001b[0m variables\u001b[39m.\u001b[39mupdate(keywds)\n\u001b[0;32m    302\u001b[0m request \u001b[39m=\u001b[39m _build_request(cgi, variables)\n\u001b[1;32m--> 303\u001b[0m \u001b[39mreturn\u001b[39;00m _open(request)\n",
      "File \u001b[1;32mc:\\Users\\81805\\anaconda3\\lib\\site-packages\\Bio\\Entrez\\__init__.py:594\u001b[0m, in \u001b[0;36m_open\u001b[1;34m(request)\u001b[0m\n\u001b[0;32m    592\u001b[0m \u001b[39mfor\u001b[39;00m i \u001b[39min\u001b[39;00m \u001b[39mrange\u001b[39m(max_tries):\n\u001b[0;32m    593\u001b[0m     \u001b[39mtry\u001b[39;00m:\n\u001b[1;32m--> 594\u001b[0m         handle \u001b[39m=\u001b[39m urlopen(request)\n\u001b[0;32m    595\u001b[0m     \u001b[39mexcept\u001b[39;00m HTTPError \u001b[39mas\u001b[39;00m exception:\n\u001b[0;32m    596\u001b[0m         \u001b[39m# Reraise if the final try fails\u001b[39;00m\n\u001b[0;32m    597\u001b[0m         \u001b[39mif\u001b[39;00m i \u001b[39m>\u001b[39m\u001b[39m=\u001b[39m max_tries \u001b[39m-\u001b[39m \u001b[39m1\u001b[39m:\n",
      "File \u001b[1;32mc:\\Users\\81805\\anaconda3\\lib\\urllib\\request.py:214\u001b[0m, in \u001b[0;36murlopen\u001b[1;34m(url, data, timeout, cafile, capath, cadefault, context)\u001b[0m\n\u001b[0;32m    212\u001b[0m \u001b[39melse\u001b[39;00m:\n\u001b[0;32m    213\u001b[0m     opener \u001b[39m=\u001b[39m _opener\n\u001b[1;32m--> 214\u001b[0m \u001b[39mreturn\u001b[39;00m opener\u001b[39m.\u001b[39;49mopen(url, data, timeout)\n",
      "File \u001b[1;32mc:\\Users\\81805\\anaconda3\\lib\\urllib\\request.py:523\u001b[0m, in \u001b[0;36mOpenerDirector.open\u001b[1;34m(self, fullurl, data, timeout)\u001b[0m\n\u001b[0;32m    521\u001b[0m \u001b[39mfor\u001b[39;00m processor \u001b[39min\u001b[39;00m \u001b[39mself\u001b[39m\u001b[39m.\u001b[39mprocess_response\u001b[39m.\u001b[39mget(protocol, []):\n\u001b[0;32m    522\u001b[0m     meth \u001b[39m=\u001b[39m \u001b[39mgetattr\u001b[39m(processor, meth_name)\n\u001b[1;32m--> 523\u001b[0m     response \u001b[39m=\u001b[39m meth(req, response)\n\u001b[0;32m    525\u001b[0m \u001b[39mreturn\u001b[39;00m response\n",
      "File \u001b[1;32mc:\\Users\\81805\\anaconda3\\lib\\urllib\\request.py:632\u001b[0m, in \u001b[0;36mHTTPErrorProcessor.http_response\u001b[1;34m(self, request, response)\u001b[0m\n\u001b[0;32m    629\u001b[0m \u001b[39m# According to RFC 2616, \"2xx\" code indicates that the client's\u001b[39;00m\n\u001b[0;32m    630\u001b[0m \u001b[39m# request was successfully received, understood, and accepted.\u001b[39;00m\n\u001b[0;32m    631\u001b[0m \u001b[39mif\u001b[39;00m \u001b[39mnot\u001b[39;00m (\u001b[39m200\u001b[39m \u001b[39m<\u001b[39m\u001b[39m=\u001b[39m code \u001b[39m<\u001b[39m \u001b[39m300\u001b[39m):\n\u001b[1;32m--> 632\u001b[0m     response \u001b[39m=\u001b[39m \u001b[39mself\u001b[39;49m\u001b[39m.\u001b[39;49mparent\u001b[39m.\u001b[39;49merror(\n\u001b[0;32m    633\u001b[0m         \u001b[39m'\u001b[39;49m\u001b[39mhttp\u001b[39;49m\u001b[39m'\u001b[39;49m, request, response, code, msg, hdrs)\n\u001b[0;32m    635\u001b[0m \u001b[39mreturn\u001b[39;00m response\n",
      "File \u001b[1;32mc:\\Users\\81805\\anaconda3\\lib\\urllib\\request.py:561\u001b[0m, in \u001b[0;36mOpenerDirector.error\u001b[1;34m(self, proto, *args)\u001b[0m\n\u001b[0;32m    559\u001b[0m \u001b[39mif\u001b[39;00m http_err:\n\u001b[0;32m    560\u001b[0m     args \u001b[39m=\u001b[39m (\u001b[39mdict\u001b[39m, \u001b[39m'\u001b[39m\u001b[39mdefault\u001b[39m\u001b[39m'\u001b[39m, \u001b[39m'\u001b[39m\u001b[39mhttp_error_default\u001b[39m\u001b[39m'\u001b[39m) \u001b[39m+\u001b[39m orig_args\n\u001b[1;32m--> 561\u001b[0m     \u001b[39mreturn\u001b[39;00m \u001b[39mself\u001b[39;49m\u001b[39m.\u001b[39;49m_call_chain(\u001b[39m*\u001b[39;49margs)\n",
      "File \u001b[1;32mc:\\Users\\81805\\anaconda3\\lib\\urllib\\request.py:494\u001b[0m, in \u001b[0;36mOpenerDirector._call_chain\u001b[1;34m(self, chain, kind, meth_name, *args)\u001b[0m\n\u001b[0;32m    492\u001b[0m \u001b[39mfor\u001b[39;00m handler \u001b[39min\u001b[39;00m handlers:\n\u001b[0;32m    493\u001b[0m     func \u001b[39m=\u001b[39m \u001b[39mgetattr\u001b[39m(handler, meth_name)\n\u001b[1;32m--> 494\u001b[0m     result \u001b[39m=\u001b[39m func(\u001b[39m*\u001b[39;49margs)\n\u001b[0;32m    495\u001b[0m     \u001b[39mif\u001b[39;00m result \u001b[39mis\u001b[39;00m \u001b[39mnot\u001b[39;00m \u001b[39mNone\u001b[39;00m:\n\u001b[0;32m    496\u001b[0m         \u001b[39mreturn\u001b[39;00m result\n",
      "File \u001b[1;32mc:\\Users\\81805\\anaconda3\\lib\\urllib\\request.py:641\u001b[0m, in \u001b[0;36mHTTPDefaultErrorHandler.http_error_default\u001b[1;34m(self, req, fp, code, msg, hdrs)\u001b[0m\n\u001b[0;32m    640\u001b[0m \u001b[39mdef\u001b[39;00m \u001b[39mhttp_error_default\u001b[39m(\u001b[39mself\u001b[39m, req, fp, code, msg, hdrs):\n\u001b[1;32m--> 641\u001b[0m     \u001b[39mraise\u001b[39;00m HTTPError(req\u001b[39m.\u001b[39mfull_url, code, msg, hdrs, fp)\n",
      "\u001b[1;31mHTTPError\u001b[0m: HTTP Error 500: Internal Server Error"
     ]
    }
   ],
   "source": [
    "#to know more about pubmed\n",
    "handle=Entrez.einfo(db=\"pubmed\")\n",
    "record=Entrez.read(handle)\n",
    "record[\"DbInfo\"][\"Description\"]\n",
    "record[\"DbInfo\"].keys()\n",
    "for field in record[\"DbInfo\"][\"FieldList\"]:\n",
    "    print(\"%(Name)s,%(FullName)s, %(Description)s\" % field)"
   ]
  },
  {
   "cell_type": "code",
   "execution_count": 4,
   "metadata": {},
   "outputs": [
    {
     "ename": "HTTPError",
     "evalue": "HTTP Error 500: Internal Server Error",
     "output_type": "error",
     "traceback": [
      "\u001b[1;31m---------------------------------------------------------------------------\u001b[0m",
      "\u001b[1;31mHTTPError\u001b[0m                                 Traceback (most recent call last)",
      "\u001b[1;32mc:\\Users\\81805\\OneDrive\\vscode\\python_ncbisearch_1120.ipynb Cell 6\u001b[0m line \u001b[0;36m<cell line: 2>\u001b[1;34m()\u001b[0m\n\u001b[0;32m      <a href='vscode-notebook-cell:/c%3A/Users/81805/OneDrive/vscode/python_ncbisearch_1120.ipynb#W5sZmlsZQ%3D%3D?line=0'>1</a>\u001b[0m \u001b[39m#search in pubmed\u001b[39;00m\n\u001b[1;32m----> <a href='vscode-notebook-cell:/c%3A/Users/81805/OneDrive/vscode/python_ncbisearch_1120.ipynb#W5sZmlsZQ%3D%3D?line=1'>2</a>\u001b[0m handle\u001b[39m=\u001b[39mEntrez\u001b[39m.\u001b[39;49mesearch(db\u001b[39m=\u001b[39;49m\u001b[39m\"\u001b[39;49m\u001b[39mpubmed\u001b[39;49m\u001b[39m\"\u001b[39;49m, term\u001b[39m=\u001b[39;49m\u001b[39m\"\u001b[39;49m\u001b[39mEnriquez-Vera\u001b[39;49m\u001b[39m\"\u001b[39;49m)\n\u001b[0;32m      <a href='vscode-notebook-cell:/c%3A/Users/81805/OneDrive/vscode/python_ncbisearch_1120.ipynb#W5sZmlsZQ%3D%3D?line=2'>3</a>\u001b[0m record\u001b[39m=\u001b[39mEntrez\u001b[39m.\u001b[39mread(handle)\n\u001b[0;32m      <a href='vscode-notebook-cell:/c%3A/Users/81805/OneDrive/vscode/python_ncbisearch_1120.ipynb#W5sZmlsZQ%3D%3D?line=3'>4</a>\u001b[0m idlist\u001b[39m=\u001b[39mrecord[\u001b[39m\"\u001b[39m\u001b[39mIdList\u001b[39m\u001b[39m\"\u001b[39m]\n",
      "File \u001b[1;32mc:\\Users\\81805\\anaconda3\\lib\\site-packages\\Bio\\Entrez\\__init__.py:230\u001b[0m, in \u001b[0;36mesearch\u001b[1;34m(db, term, **keywds)\u001b[0m\n\u001b[0;32m    228\u001b[0m variables\u001b[39m.\u001b[39mupdate(keywds)\n\u001b[0;32m    229\u001b[0m request \u001b[39m=\u001b[39m _build_request(cgi, variables)\n\u001b[1;32m--> 230\u001b[0m \u001b[39mreturn\u001b[39;00m _open(request)\n",
      "File \u001b[1;32mc:\\Users\\81805\\anaconda3\\lib\\site-packages\\Bio\\Entrez\\__init__.py:594\u001b[0m, in \u001b[0;36m_open\u001b[1;34m(request)\u001b[0m\n\u001b[0;32m    592\u001b[0m \u001b[39mfor\u001b[39;00m i \u001b[39min\u001b[39;00m \u001b[39mrange\u001b[39m(max_tries):\n\u001b[0;32m    593\u001b[0m     \u001b[39mtry\u001b[39;00m:\n\u001b[1;32m--> 594\u001b[0m         handle \u001b[39m=\u001b[39m urlopen(request)\n\u001b[0;32m    595\u001b[0m     \u001b[39mexcept\u001b[39;00m HTTPError \u001b[39mas\u001b[39;00m exception:\n\u001b[0;32m    596\u001b[0m         \u001b[39m# Reraise if the final try fails\u001b[39;00m\n\u001b[0;32m    597\u001b[0m         \u001b[39mif\u001b[39;00m i \u001b[39m>\u001b[39m\u001b[39m=\u001b[39m max_tries \u001b[39m-\u001b[39m \u001b[39m1\u001b[39m:\n",
      "File \u001b[1;32mc:\\Users\\81805\\anaconda3\\lib\\urllib\\request.py:214\u001b[0m, in \u001b[0;36murlopen\u001b[1;34m(url, data, timeout, cafile, capath, cadefault, context)\u001b[0m\n\u001b[0;32m    212\u001b[0m \u001b[39melse\u001b[39;00m:\n\u001b[0;32m    213\u001b[0m     opener \u001b[39m=\u001b[39m _opener\n\u001b[1;32m--> 214\u001b[0m \u001b[39mreturn\u001b[39;00m opener\u001b[39m.\u001b[39;49mopen(url, data, timeout)\n",
      "File \u001b[1;32mc:\\Users\\81805\\anaconda3\\lib\\urllib\\request.py:523\u001b[0m, in \u001b[0;36mOpenerDirector.open\u001b[1;34m(self, fullurl, data, timeout)\u001b[0m\n\u001b[0;32m    521\u001b[0m \u001b[39mfor\u001b[39;00m processor \u001b[39min\u001b[39;00m \u001b[39mself\u001b[39m\u001b[39m.\u001b[39mprocess_response\u001b[39m.\u001b[39mget(protocol, []):\n\u001b[0;32m    522\u001b[0m     meth \u001b[39m=\u001b[39m \u001b[39mgetattr\u001b[39m(processor, meth_name)\n\u001b[1;32m--> 523\u001b[0m     response \u001b[39m=\u001b[39m meth(req, response)\n\u001b[0;32m    525\u001b[0m \u001b[39mreturn\u001b[39;00m response\n",
      "File \u001b[1;32mc:\\Users\\81805\\anaconda3\\lib\\urllib\\request.py:632\u001b[0m, in \u001b[0;36mHTTPErrorProcessor.http_response\u001b[1;34m(self, request, response)\u001b[0m\n\u001b[0;32m    629\u001b[0m \u001b[39m# According to RFC 2616, \"2xx\" code indicates that the client's\u001b[39;00m\n\u001b[0;32m    630\u001b[0m \u001b[39m# request was successfully received, understood, and accepted.\u001b[39;00m\n\u001b[0;32m    631\u001b[0m \u001b[39mif\u001b[39;00m \u001b[39mnot\u001b[39;00m (\u001b[39m200\u001b[39m \u001b[39m<\u001b[39m\u001b[39m=\u001b[39m code \u001b[39m<\u001b[39m \u001b[39m300\u001b[39m):\n\u001b[1;32m--> 632\u001b[0m     response \u001b[39m=\u001b[39m \u001b[39mself\u001b[39;49m\u001b[39m.\u001b[39;49mparent\u001b[39m.\u001b[39;49merror(\n\u001b[0;32m    633\u001b[0m         \u001b[39m'\u001b[39;49m\u001b[39mhttp\u001b[39;49m\u001b[39m'\u001b[39;49m, request, response, code, msg, hdrs)\n\u001b[0;32m    635\u001b[0m \u001b[39mreturn\u001b[39;00m response\n",
      "File \u001b[1;32mc:\\Users\\81805\\anaconda3\\lib\\urllib\\request.py:561\u001b[0m, in \u001b[0;36mOpenerDirector.error\u001b[1;34m(self, proto, *args)\u001b[0m\n\u001b[0;32m    559\u001b[0m \u001b[39mif\u001b[39;00m http_err:\n\u001b[0;32m    560\u001b[0m     args \u001b[39m=\u001b[39m (\u001b[39mdict\u001b[39m, \u001b[39m'\u001b[39m\u001b[39mdefault\u001b[39m\u001b[39m'\u001b[39m, \u001b[39m'\u001b[39m\u001b[39mhttp_error_default\u001b[39m\u001b[39m'\u001b[39m) \u001b[39m+\u001b[39m orig_args\n\u001b[1;32m--> 561\u001b[0m     \u001b[39mreturn\u001b[39;00m \u001b[39mself\u001b[39;49m\u001b[39m.\u001b[39;49m_call_chain(\u001b[39m*\u001b[39;49margs)\n",
      "File \u001b[1;32mc:\\Users\\81805\\anaconda3\\lib\\urllib\\request.py:494\u001b[0m, in \u001b[0;36mOpenerDirector._call_chain\u001b[1;34m(self, chain, kind, meth_name, *args)\u001b[0m\n\u001b[0;32m    492\u001b[0m \u001b[39mfor\u001b[39;00m handler \u001b[39min\u001b[39;00m handlers:\n\u001b[0;32m    493\u001b[0m     func \u001b[39m=\u001b[39m \u001b[39mgetattr\u001b[39m(handler, meth_name)\n\u001b[1;32m--> 494\u001b[0m     result \u001b[39m=\u001b[39m func(\u001b[39m*\u001b[39;49margs)\n\u001b[0;32m    495\u001b[0m     \u001b[39mif\u001b[39;00m result \u001b[39mis\u001b[39;00m \u001b[39mnot\u001b[39;00m \u001b[39mNone\u001b[39;00m:\n\u001b[0;32m    496\u001b[0m         \u001b[39mreturn\u001b[39;00m result\n",
      "File \u001b[1;32mc:\\Users\\81805\\anaconda3\\lib\\urllib\\request.py:641\u001b[0m, in \u001b[0;36mHTTPDefaultErrorHandler.http_error_default\u001b[1;34m(self, req, fp, code, msg, hdrs)\u001b[0m\n\u001b[0;32m    640\u001b[0m \u001b[39mdef\u001b[39;00m \u001b[39mhttp_error_default\u001b[39m(\u001b[39mself\u001b[39m, req, fp, code, msg, hdrs):\n\u001b[1;32m--> 641\u001b[0m     \u001b[39mraise\u001b[39;00m HTTPError(req\u001b[39m.\u001b[39mfull_url, code, msg, hdrs, fp)\n",
      "\u001b[1;31mHTTPError\u001b[0m: HTTP Error 500: Internal Server Error"
     ]
    }
   ],
   "source": [
    "#search in pubmed\n",
    "handle=Entrez.esearch(db=\"pubmed\", term=\"Enriquez-Vera\")\n",
    "record=Entrez.read(handle)\n",
    "idlist=record[\"IdList\"]\n",
    "print(idlist)\n",
    "\n",
    "\n",
    "#medline\n",
    "handle=Entrez.efetch(db=\"pubmed\", id=idlist, rettype=\"medline\")\n",
    "records=Medline.parse(handle)\n",
    "records=list(records)\n",
    "for record in records:\n",
    "    print(\"title:\", record.get(\"TI\",\"?\"))\n",
    "    print(\"authors:\",record.get(\"AU\",\"?\"))\n",
    "    print(\"source:\",record.get(\"SO\",\"?\"))\n",
    "    print(\"\")\n",
    "#search among results\n",
    "search_author=\"Valcarcel B\"         \n",
    "for record in records:\n",
    "    if not \"AU\" in record:\n",
    "        continue\n",
    "    if search_author in record[\"AU\"]:\n",
    "        print(\"Author %s found: %s\" % (search_author, record[\"SO\"]))            "
   ]
  },
  {
   "cell_type": "code",
   "execution_count": 4,
   "metadata": {},
   "outputs": [
    {
     "name": "stdout",
     "output_type": "stream",
     "text": [
      "['2070973379', '1830623825', '1830623821', '1830623817', '1830623813', '1830623809', '1830623805', '1830623801', '1830623797', '1779419811', '1277357657', '1277357653', '1277357649', '1277357645', '1277357641', '1277357637', '1277357633', '1277357629', '1277357625', '1277357621']\n"
     ]
    }
   ],
   "source": [
    "#I will start my search for nucleotides\n",
    "\n",
    "#6000:1000[SLEN] AND \"Human T-cell leukemia virus type I\"[ORGN] biomol_genomic[PROP] AND (PROP ORGN TITLHuman T-cell leukemia virus type I NCBI:txid11908\n",
    "\n",
    "#download the list of genBank identifiers\n",
    "handle=Entrez.esearch(db=\"nucleotide\",term=\"Human T-cell leukemia virus type I[Orgn] AND 6000:10000[SLEN]\")\n",
    "record=Entrez.read(handle)\n",
    "record[\"Count\"] #total articles\n",
    "\n",
    "#make a list\n",
    "htlvlist=(record['IdList'])\n",
    "print(htlvlist)\n",
    "textfile=open(\"C:/Users/81805/OneDrive/vscode/practice_sequences_python/htlvlist.txt\",\"w\")\n",
    "for item in htlvlist:\n",
    "    textfile.write(item +\"\\n\")\n",
    "textfile.close()    \n",
    "#download fasta\n",
    "#handle=Entrez.efetch(db='nucleotide', id=htlvlist,rettype='fasta',retmode=\"text\")\n",
    "#record=SeqIO.parse(handle,'fasta')\n",
    "#outputname=\"C:/Users/81805/OneDrive/vscode/practice_sequences_python/htlvlist.fasta\"\n",
    "#SeqIO.write(htlvlist,outputname,'fasta')\n"
   ]
  },
  {
   "cell_type": "code",
   "execution_count": 81,
   "metadata": {},
   "outputs": [
    {
     "ename": "HTTPError",
     "evalue": "HTTP Error 500: Internal Server Error",
     "output_type": "error",
     "traceback": [
      "\u001b[1;31m---------------------------------------------------------------------------\u001b[0m",
      "\u001b[1;31mHTTPError\u001b[0m                                 Traceback (most recent call last)",
      "\u001b[1;32mc:\\Users\\81805\\OneDrive\\vscode\\python_ncbisearch_1120.ipynb Cell 8\u001b[0m line \u001b[0;36m<cell line: 2>\u001b[1;34m()\u001b[0m\n\u001b[0;32m      <a href='vscode-notebook-cell:/c%3A/Users/81805/OneDrive/vscode/python_ncbisearch_1120.ipynb#X36sZmlsZQ%3D%3D?line=0'>1</a>\u001b[0m Entrez\u001b[39m.\u001b[39memail\u001b[39m=\u001b[39m \u001b[39m\"\u001b[39m\u001b[39menriquezv.dj@gmail.com\u001b[39m\u001b[39m\"\u001b[39m\n\u001b[1;32m----> <a href='vscode-notebook-cell:/c%3A/Users/81805/OneDrive/vscode/python_ncbisearch_1120.ipynb#X36sZmlsZQ%3D%3D?line=1'>2</a>\u001b[0m handle\u001b[39m=\u001b[39mEntrez\u001b[39m.\u001b[39;49mesearch(db\u001b[39m=\u001b[39;49m\u001b[39m\"\u001b[39;49m\u001b[39mnucleotide\u001b[39;49m\u001b[39m\"\u001b[39;49m, term\u001b[39m=\u001b[39;49m\u001b[39m\"\u001b[39;49m\u001b[39mHTLV-I\u001b[39;49m\u001b[39m\"\u001b[39;49m)\n\u001b[0;32m      <a href='vscode-notebook-cell:/c%3A/Users/81805/OneDrive/vscode/python_ncbisearch_1120.ipynb#X36sZmlsZQ%3D%3D?line=2'>3</a>\u001b[0m record\u001b[39m=\u001b[39mEntrez\u001b[39m.\u001b[39mread(handle)\n\u001b[0;32m      <a href='vscode-notebook-cell:/c%3A/Users/81805/OneDrive/vscode/python_ncbisearch_1120.ipynb#X36sZmlsZQ%3D%3D?line=3'>4</a>\u001b[0m record[\u001b[39m\"\u001b[39m\u001b[39mCount\u001b[39m\u001b[39m\"\u001b[39m]\n",
      "File \u001b[1;32mc:\\Users\\81805\\anaconda3\\lib\\site-packages\\Bio\\Entrez\\__init__.py:230\u001b[0m, in \u001b[0;36mesearch\u001b[1;34m(db, term, **keywds)\u001b[0m\n\u001b[0;32m    228\u001b[0m variables\u001b[39m.\u001b[39mupdate(keywds)\n\u001b[0;32m    229\u001b[0m request \u001b[39m=\u001b[39m _build_request(cgi, variables)\n\u001b[1;32m--> 230\u001b[0m \u001b[39mreturn\u001b[39;00m _open(request)\n",
      "File \u001b[1;32mc:\\Users\\81805\\anaconda3\\lib\\site-packages\\Bio\\Entrez\\__init__.py:594\u001b[0m, in \u001b[0;36m_open\u001b[1;34m(request)\u001b[0m\n\u001b[0;32m    592\u001b[0m \u001b[39mfor\u001b[39;00m i \u001b[39min\u001b[39;00m \u001b[39mrange\u001b[39m(max_tries):\n\u001b[0;32m    593\u001b[0m     \u001b[39mtry\u001b[39;00m:\n\u001b[1;32m--> 594\u001b[0m         handle \u001b[39m=\u001b[39m urlopen(request)\n\u001b[0;32m    595\u001b[0m     \u001b[39mexcept\u001b[39;00m HTTPError \u001b[39mas\u001b[39;00m exception:\n\u001b[0;32m    596\u001b[0m         \u001b[39m# Reraise if the final try fails\u001b[39;00m\n\u001b[0;32m    597\u001b[0m         \u001b[39mif\u001b[39;00m i \u001b[39m>\u001b[39m\u001b[39m=\u001b[39m max_tries \u001b[39m-\u001b[39m \u001b[39m1\u001b[39m:\n",
      "File \u001b[1;32mc:\\Users\\81805\\anaconda3\\lib\\urllib\\request.py:214\u001b[0m, in \u001b[0;36murlopen\u001b[1;34m(url, data, timeout, cafile, capath, cadefault, context)\u001b[0m\n\u001b[0;32m    212\u001b[0m \u001b[39melse\u001b[39;00m:\n\u001b[0;32m    213\u001b[0m     opener \u001b[39m=\u001b[39m _opener\n\u001b[1;32m--> 214\u001b[0m \u001b[39mreturn\u001b[39;00m opener\u001b[39m.\u001b[39;49mopen(url, data, timeout)\n",
      "File \u001b[1;32mc:\\Users\\81805\\anaconda3\\lib\\urllib\\request.py:523\u001b[0m, in \u001b[0;36mOpenerDirector.open\u001b[1;34m(self, fullurl, data, timeout)\u001b[0m\n\u001b[0;32m    521\u001b[0m \u001b[39mfor\u001b[39;00m processor \u001b[39min\u001b[39;00m \u001b[39mself\u001b[39m\u001b[39m.\u001b[39mprocess_response\u001b[39m.\u001b[39mget(protocol, []):\n\u001b[0;32m    522\u001b[0m     meth \u001b[39m=\u001b[39m \u001b[39mgetattr\u001b[39m(processor, meth_name)\n\u001b[1;32m--> 523\u001b[0m     response \u001b[39m=\u001b[39m meth(req, response)\n\u001b[0;32m    525\u001b[0m \u001b[39mreturn\u001b[39;00m response\n",
      "File \u001b[1;32mc:\\Users\\81805\\anaconda3\\lib\\urllib\\request.py:632\u001b[0m, in \u001b[0;36mHTTPErrorProcessor.http_response\u001b[1;34m(self, request, response)\u001b[0m\n\u001b[0;32m    629\u001b[0m \u001b[39m# According to RFC 2616, \"2xx\" code indicates that the client's\u001b[39;00m\n\u001b[0;32m    630\u001b[0m \u001b[39m# request was successfully received, understood, and accepted.\u001b[39;00m\n\u001b[0;32m    631\u001b[0m \u001b[39mif\u001b[39;00m \u001b[39mnot\u001b[39;00m (\u001b[39m200\u001b[39m \u001b[39m<\u001b[39m\u001b[39m=\u001b[39m code \u001b[39m<\u001b[39m \u001b[39m300\u001b[39m):\n\u001b[1;32m--> 632\u001b[0m     response \u001b[39m=\u001b[39m \u001b[39mself\u001b[39;49m\u001b[39m.\u001b[39;49mparent\u001b[39m.\u001b[39;49merror(\n\u001b[0;32m    633\u001b[0m         \u001b[39m'\u001b[39;49m\u001b[39mhttp\u001b[39;49m\u001b[39m'\u001b[39;49m, request, response, code, msg, hdrs)\n\u001b[0;32m    635\u001b[0m \u001b[39mreturn\u001b[39;00m response\n",
      "File \u001b[1;32mc:\\Users\\81805\\anaconda3\\lib\\urllib\\request.py:561\u001b[0m, in \u001b[0;36mOpenerDirector.error\u001b[1;34m(self, proto, *args)\u001b[0m\n\u001b[0;32m    559\u001b[0m \u001b[39mif\u001b[39;00m http_err:\n\u001b[0;32m    560\u001b[0m     args \u001b[39m=\u001b[39m (\u001b[39mdict\u001b[39m, \u001b[39m'\u001b[39m\u001b[39mdefault\u001b[39m\u001b[39m'\u001b[39m, \u001b[39m'\u001b[39m\u001b[39mhttp_error_default\u001b[39m\u001b[39m'\u001b[39m) \u001b[39m+\u001b[39m orig_args\n\u001b[1;32m--> 561\u001b[0m     \u001b[39mreturn\u001b[39;00m \u001b[39mself\u001b[39;49m\u001b[39m.\u001b[39;49m_call_chain(\u001b[39m*\u001b[39;49margs)\n",
      "File \u001b[1;32mc:\\Users\\81805\\anaconda3\\lib\\urllib\\request.py:494\u001b[0m, in \u001b[0;36mOpenerDirector._call_chain\u001b[1;34m(self, chain, kind, meth_name, *args)\u001b[0m\n\u001b[0;32m    492\u001b[0m \u001b[39mfor\u001b[39;00m handler \u001b[39min\u001b[39;00m handlers:\n\u001b[0;32m    493\u001b[0m     func \u001b[39m=\u001b[39m \u001b[39mgetattr\u001b[39m(handler, meth_name)\n\u001b[1;32m--> 494\u001b[0m     result \u001b[39m=\u001b[39m func(\u001b[39m*\u001b[39;49margs)\n\u001b[0;32m    495\u001b[0m     \u001b[39mif\u001b[39;00m result \u001b[39mis\u001b[39;00m \u001b[39mnot\u001b[39;00m \u001b[39mNone\u001b[39;00m:\n\u001b[0;32m    496\u001b[0m         \u001b[39mreturn\u001b[39;00m result\n",
      "File \u001b[1;32mc:\\Users\\81805\\anaconda3\\lib\\urllib\\request.py:641\u001b[0m, in \u001b[0;36mHTTPDefaultErrorHandler.http_error_default\u001b[1;34m(self, req, fp, code, msg, hdrs)\u001b[0m\n\u001b[0;32m    640\u001b[0m \u001b[39mdef\u001b[39;00m \u001b[39mhttp_error_default\u001b[39m(\u001b[39mself\u001b[39m, req, fp, code, msg, hdrs):\n\u001b[1;32m--> 641\u001b[0m     \u001b[39mraise\u001b[39;00m HTTPError(req\u001b[39m.\u001b[39mfull_url, code, msg, hdrs, fp)\n",
      "\u001b[1;31mHTTPError\u001b[0m: HTTP Error 500: Internal Server Error"
     ]
    }
   ],
   "source": [
    "Entrez.email= \"enriquezv.dj@gmail.com\"\n",
    "handle=Entrez.esearch(db=\"nucleotide\", term=\"HTLV-I\")\n",
    "record=Entrez.read(handle)\n",
    "record[\"Count\"] #total articles"
   ]
  },
  {
   "cell_type": "code",
   "execution_count": null,
   "metadata": {},
   "outputs": [],
   "source": [
    "#How to download to a file\n",
    "#to download with genbank\n",
    "handle=Entrez.efetch(db='nuccore', id='34577062')\n",
    "print(handle.read())\n",
    "\n",
    "#to download with fasta\n",
    "handle=Entrez.efetch(db='nuccore', id='34577062',rettype='fasta')\n",
    "print(handle.read())\n",
    "\n",
    "#nucleotide, accession number, genbank, text format\n",
    "handle=Entrez.efetch(db='nuccore', id='NM_001126.2',rettype='gb', retmode='txt')\n",
    "print(handle.read())\n",
    "\n",
    "#Download and explore sequences in fasta\n",
    "handle=Entrez.efetch(db='nucleotide', id='NM_001126.2',rettype='fasta', retmode='text')\n",
    "record=SeqIO.read(handle,'fasta')\n",
    "record.description\n",
    "record.seq\n",
    "len(record.seq)\n",
    "print(record.seq)\n",
    "#Download and explore sequences in gb\n",
    "handle=Entrez.efetch(db='nucleotide', id='NM_001126.2',rettype='gb', retmode='text')\n",
    "record=SeqIO.read(handle,'gb')\n",
    "record.description\n",
    "record.annotations\n",
    "len(record.features)\n",
    "print(record.features)\n",
    "#multiple identifiers\n",
    "handle=Entrez.efetch(db='nuccore', id='34577062, 186972394',rettype='fasta')\n",
    "records=SeqIO.parse(handle,'fasta')\n",
    "records=[i for i in records]\n",
    "#output file genbank single sequence\n",
    "handle=Entrez.efetch(db='nucleotide', id='NM_001126.2',rettype='gb')\n",
    "record=SeqIO.read(handle,'gb')\n",
    "outputname='/Users/denriquez/Library/CloudStorage/OneDrive-Personal/vscode/practice_sequences_python/adss1120.gb'\n",
    "SeqIO.write(record,outputname,'gb')\n",
    "#output file genbank single sequence\n",
    "handle=Entrez.efetch(db='nucleotide', id='NM_001126.2',rettype='fasta')\n",
    "record=SeqIO.read(handle,'fasta')\n",
    "outputname='/Users/denriquez/Library/CloudStorage/OneDrive-Personal/vscode/practice_sequences_python/adss1120.fasta'\n",
    "SeqIO.write(record,outputname,'fasta')\n",
    "#output file multifasta\n",
    "handle=Entrez.efetch(db='nucleotide', id='34577062,186972394',rettype='fasta')\n",
    "record=SeqIO.parse(handle,'fasta')\n",
    "outputname='/Users/denriquez/Library/CloudStorage/OneDrive-Personal/vscode/practice_sequences_python/twofiles.fasta'\n",
    "SeqIO.write(record,outputname,'fasta')"
   ]
  },
  {
   "cell_type": "code",
   "execution_count": null,
   "metadata": {},
   "outputs": [],
   "source": []
  },
  {
   "cell_type": "code",
   "execution_count": null,
   "metadata": {},
   "outputs": [],
   "source": []
  },
  {
   "cell_type": "code",
   "execution_count": null,
   "metadata": {},
   "outputs": [],
   "source": []
  },
  {
   "cell_type": "code",
   "execution_count": null,
   "metadata": {},
   "outputs": [],
   "source": []
  },
  {
   "cell_type": "code",
   "execution_count": null,
   "metadata": {},
   "outputs": [],
   "source": []
  },
  {
   "cell_type": "code",
   "execution_count": null,
   "metadata": {},
   "outputs": [],
   "source": []
  }
 ],
 "metadata": {
  "kernelspec": {
   "display_name": "base",
   "language": "python",
   "name": "python3"
  },
  "language_info": {
   "codemirror_mode": {
    "name": "ipython",
    "version": 3
   },
   "file_extension": ".py",
   "mimetype": "text/x-python",
   "name": "python",
   "nbconvert_exporter": "python",
   "pygments_lexer": "ipython3",
   "version": "3.9.12"
  }
 },
 "nbformat": 4,
 "nbformat_minor": 2
}
