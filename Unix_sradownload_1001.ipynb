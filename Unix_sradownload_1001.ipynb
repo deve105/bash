{
 "cells": [
  {
   "cell_type": "code",
   "execution_count": null,
   "metadata": {},
   "outputs": [],
   "source": [
    "#!/bin/bash\n",
    "SECONDS=0\n",
    "# estoy trabajando desde un disco duro externo de 1TB porque ya no tengo espacio\n",
    "vdb-config --prefetch-to-cwd\n",
    "# Limit background jobs to no more that $maxproc at once.\n",
    "maxproc=1\n",
    "#aqui debe estar el otro archivo en txt\n",
    "filename=$1\n",
    "if [[ ! -f $filename ]] ; then\n",
    "    echo \"Error, you must enter a filename as a command line parameter\"\n",
    "    exit\n",
    "fi\n",
    "while read line; do\n",
    "echo $line\n",
    "fasterq-dump -p --outdir fastq --mem 8G --split-3 --threads 5 --skip-technical  $line\n",
    "done < $filename\n",
    "duration=$SECONDS\n",
    "echo \"$(($duration / 60)) minutes and $(($duration % 60)) seconds elapsed.\"\n",
    "\n",
    "https://github.com/ncbi/sra-tools/wiki/02.-Installing-SRA-Toolkit\n",
    "\n",
    "Downloading sequencing data on windows - SRA Tool kit - Step 1\n",
    "Downloading sequencing data on ubuntu/linux - SRA toolkit\n",
    "\n",
    "\n",
    "\n",
    "\n",
    "\n",
    "\n",
    "\n",
    "How to download sequencing data from SRA NCBI | Bioinformatics 101\n",
    "\n"
   ]
  },
  {
   "cell_type": "markdown",
   "metadata": {},
   "source": [
    "https://github.com/ncbi/sra-tools/wiki/02.-Installing-SRA-Toolkit\n",
    "\n",
    "Downloading sequencing data on windows - SRA Tool kit - Step 1\n",
    "Downloading sequencing data on ubuntu/linux - SRA toolkit\n",
    "\n",
    "\n",
    "\n",
    "\n",
    "\n",
    "\n",
    "\n",
    "How to download sequencing data from SRA NCBI | Bioinformatics 101\n",
    "\n",
    "\n",
    "\n",
    "\n",
    "\n",
    "SRP study\n",
    "SRS sample\n",
    "SRX experiment\n",
    "SRR run\n",
    "GEOdataset -> SRA run selector\n",
    "\n",
    "https://erilu.github.io/python-fastq-downloader/\n"
   ]
  }
 ],
 "metadata": {
  "language_info": {
   "name": "python"
  }
 },
 "nbformat": 4,
 "nbformat_minor": 2
}
