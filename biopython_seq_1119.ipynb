{
 "cells": [
  {
   "cell_type": "code",
   "execution_count": null,
   "metadata": {},
   "outputs": [],
   "source": [
    "#Install code tools first for Mac only\n",
    "!xcode-select --install"
   ]
  },
  {
   "cell_type": "code",
   "execution_count": null,
   "metadata": {},
   "outputs": [],
   "source": [
    "#update brew and install ncbi toolkit for Mac only\n",
    "!brew update\n",
    "!brew install ncbi-c++-toolkit"
   ]
  },
  {
   "cell_type": "markdown",
   "metadata": {},
   "source": [
    "#### Biopython: Entrez interface\n",
    "\n",
    "Links\n",
    "https://github.com/lanadominkovic/12-days-of-biopython/blob/main/12_days_of_biopython/day_02/day_02-accessing-ncbi-databases.ipynb\n",
    "http://biopython.org/DIST/docs/tutorial/Tutorial.html#sec26\n"
   ]
  },
  {
   "cell_type": "code",
   "execution_count": 4,
   "metadata": {},
   "outputs": [
    {
     "name": "stdout",
     "output_type": "stream",
     "text": [
      "Requirement already satisfied: pip in c:\\users\\81805\\anaconda3\\lib\\site-packages (21.2.4)\n",
      "Collecting pip\n",
      "  Downloading pip-23.3.1-py3-none-any.whl (2.1 MB)\n",
      "Installing collected packages: pip\n",
      "  Attempting uninstall: pip\n",
      "    Found existing installation: pip 21.2.4\n",
      "    Uninstalling pip-21.2.4:\n",
      "      Successfully uninstalled pip-21.2.4\n",
      "Successfully installed pip-23.3.1\n",
      "Note: you may need to restart the kernel to use updated packages.\n",
      "Collecting biopython\n",
      "  Downloading biopython-1.81-cp39-cp39-win_amd64.whl (2.7 MB)\n",
      "     ---------------------------------------- 2.7/2.7 MB 21.7 MB/s eta 0:00:00\n",
      "Requirement already satisfied: numpy in c:\\users\\81805\\anaconda3\\lib\\site-packages (from biopython) (1.21.5)\n",
      "Installing collected packages: biopython\n",
      "Successfully installed biopython-1.81\n",
      "Note: you may need to restart the kernel to use updated packages.\n"
     ]
    }
   ],
   "source": [
    "#%%capture #to omit output\n",
    "#install biopython and upgrade pip\n",
    "\n",
    "%pip install --upgrade pip\n",
    "%pip install biopython"
   ]
  },
  {
   "cell_type": "code",
   "execution_count": 2,
   "metadata": {},
   "outputs": [
    {
     "name": "stdout",
     "output_type": "stream",
     "text": [
      "1.81\n"
     ]
    }
   ],
   "source": [
    "#check which version of Biopython\n",
    "import Bio\n",
    "print(Bio.__version__)"
   ]
  },
  {
   "cell_type": "code",
   "execution_count": null,
   "metadata": {},
   "outputs": [],
   "source": [
    "from Bio.Seq import Seq\n",
    "my_seq = Seq(\"AGTACACTGGTATCGATGGGCCTATATAGGATCGAAAATCGC\")\n",
    "print(my_seq)\n",
    "\n",
    "#seq complement\n",
    "print(my_seq.complement())\n",
    "#Also SeqRecord, BioSeqIO modules, reverse complement\n",
    "my_seq.reverse_complement()\n",
    "\n",
    "#additionaly, a list\n",
    "for index, letter in enumerate(my_seq):\n",
    "    print(\"%i %s\" % (index,letter))\n",
    "#lenght\n",
    "print(len(my_seq))\n",
    "#letter by letter or last letter -1\n",
    "print(my_seq[-1])\n",
    "#non-overlapping count\n",
    "print(Seq(my_seq).count(\"A\"))\n",
    "#GC%\n",
    "print(100*(my_seq.count(\"G\")+my_seq.count(\"C\"))/len(my_seq))\n",
    "#GC%\n",
    "from Bio.Seq import Seq\n",
    "from Bio.SeqUtils import gc_fraction\n",
    "gc_fraction(my_seq)\n",
    "Bio.SeqUtils.gc_fraction(my_seq)\n"
   ]
  },
  {
   "cell_type": "code",
   "execution_count": null,
   "metadata": {},
   "outputs": [],
   "source": [
    "#to slice a sequence\n",
    "from Bio.Seq import Seq\n",
    "my_seq = Seq(\"AGTACACTGGTATCGATGGGCCTATATAGGATCGAAAATCGC\")\n",
    "my_seq[0:8]\n",
    "my_seq[0::3] #first codon positions\n",
    "my_seq[::-1] #reverse the string"
   ]
  },
  {
   "cell_type": "code",
   "execution_count": null,
   "metadata": {},
   "outputs": [],
   "source": [
    "#turnin sequences objects into strings (save into a file)\n",
    "from Bio.Seq import Seq\n",
    "my_seq = Seq(\"AGTACACTGGTATCGATGGGCCTATATAGGATCGAAAATCGC\")\n",
    "str(my_seq) #print() also do this"
   ]
  },
  {
   "cell_type": "code",
   "execution_count": null,
   "metadata": {},
   "outputs": [],
   "source": [
    "#create a Fasta file (line wrapping)\n",
    "fasta_format=\">Name\\n%s\\n\" % my_seq\n",
    "print(fasta_format)\n",
    "\n",
    "#concatenate two sequences\n",
    "from Bio.Seq import Seq\n",
    "seq1=Seq(\"ACGT\")\n",
    "seq2=Seq(\"AACCGG\")\n",
    "seq1+seq2\n",
    "#many sequences\n",
    "from Bio.Seq import Seq\n",
    "seqlist=[Seq(\"ACGT\"), Seq(\"AACC\"), Seq(\"GGTT\")]\n",
    "concatenated=Seq(\"\")\n",
    "for s in seqlist:\n",
    "    concatenated += s\n",
    "concatenated\n",
    "#join method\n",
    "spacer=Seq(\"N\"*10)\n",
    "spacer.join(seqlist)\n",
    "\n",
    "#changing case\n",
    "concatenated.lower()\n",
    "concatenated.upper()\n",
    "\n",
    "#matching with case\n",
    "\"ggg\" in concatenated.lower()\n",
    "\n"
   ]
  },
  {
   "cell_type": "code",
   "execution_count": null,
   "metadata": {},
   "outputs": [],
   "source": []
  },
  {
   "cell_type": "code",
   "execution_count": null,
   "metadata": {},
   "outputs": [],
   "source": [
    "from Bio.Seq import Seq\n",
    "coding_dna = Seq(\"ATGGCCATTGTAATGGGCCGCTGAAAGGGTGCCCGATAG\")\n",
    "print(coding_dna) #coding strand\n",
    "print(coding_dna.reverse_complement()) #template strand\n",
    "print(coding_dna.transcribe()) #mRNA\n",
    "print(coding_dna.reverse_complement().reverse_complement().transcribe()) #the same, but the real proccess\n",
    "print(coding_dna.transcribe().back_transcribe()) #go back to DNA\n",
    "print(coding_dna.translate()) #translate\n",
    "# https://www.ncbi.nlm.nih.gov/Taxonomy/Utils/wprintgc.cgi\n",
    "print(coding_dna.translate(table=\"Vertebrate Mitochondrial\"))\n",
    "print(coding_dna.translate(table=2, to_stop=True), stop_symbol=\"@\",cds=True)"
   ]
  },
  {
   "cell_type": "code",
   "execution_count": null,
   "metadata": {},
   "outputs": [],
   "source": [
    "#transition tables\n",
    "from Bio.Data import CodonTable\n",
    "print(CodonTable.unambiguous_dna_by_name[\"Standard\"])\n",
    "print(CodonTable.unambiguous_dna_by_id[11])\n",
    "\n",
    "#start or stop codons\n",
    "print(CodonTable.unambiguous_dna_by_id[11].stop_codons)\n",
    "print(CodonTable.unambiguous_dna_by_id[11].start_codons)"
   ]
  },
  {
   "cell_type": "code",
   "execution_count": null,
   "metadata": {},
   "outputs": [],
   "source": [
    "#Unknown sequences\n",
    "from Bio.Seq import Seq\n",
    "unk=Seq(None,10)\n",
    "print(unk)"
   ]
  },
  {
   "cell_type": "markdown",
   "metadata": {},
   "source": [
    "s hg38.chr7     117512683 36 + 159345973 TTGAAAACCTGAATGTGAGAGTCAGTCAAGGATAGT\n",
    "s panTro4.chr7  119000876 36 + 161824586 TTGAAAACCTGAATGTGAGAGTCACTCAAGGATAGT\n",
    "s rheMac3.chr3  156330991 36 + 198365852 CTGAAATCCTGAATGTGAGAGTCAATCAAGGATGGT\n",
    "s mm10.chr6      18207101 36 + 149736546 CTGAAAACCTAAGTAGGAGAATCAACTAAGGATAAT\n",
    "s rn5.chr4       42326848 36 + 248343840 CTGAAAACCTAAGTAGGAGAGACAGTTAAAGATAAT\n",
    "s canFam3.chr14  56325207 36 +  60966679 TTGAAAAACTGATTATTAGAGTCAATTAAGGATAGT\n",
    "s monDom5.chr8  173163865 36 + 312544902 TTAAGAAACTGGAAATGAGGGTTGAATGACAAACTT\n",
    "In each row, the first number indicates the starting position (in zero-based coordinates) of the aligned sequence on the chromosome, followed by the size of the aligned sequence, the strand, the size of the full chromosome, and the aligned sequence."
   ]
  },
  {
   "cell_type": "code",
   "execution_count": null,
   "metadata": {},
   "outputs": [],
   "source": [
    "from Bio.Seq import Seq, MutableSeq\n",
    "seq=Seq({117512683: \"TTGAAAACCTGAATGTGAGAGTCAGTCAAGGATAGT\"}, length=159345973)\n",
    "seq[1000:1020]\n",
    "seq[117512670:117512690]\n",
    "seq[117512700:]\n",
    "seq\n",
    "# MutableSeq to make changes in the sequences\n",
    "mutable_seq = MutableSeq(\"GCCATTGTAATGGGCCGCTGAAAGGGTGCCCGA\")\n",
    "mutable_seq\n",
    "mutable_seq[5] = \"C\"\n",
    "mutable_seq.remove(\"T\")\n",
    "mutable_seq.reverse()\n",
    "\n",
    "#to go bank to read-only sequency\n",
    "new_seq=Seq(mutable_seq)\n",
    "new_seq"
   ]
  },
  {
   "cell_type": "code",
   "execution_count": null,
   "metadata": {},
   "outputs": [],
   "source": [
    "#another alternative without using Seq\n",
    "from Bio.Seq import reverse_complement, transcribe, back_transcribe, translate\n",
    "my_string = \"GCTGTTATGGGTCGTTGGAAGGGTGGTCGTGCTGCTGGTTAG\"\n",
    "reverse_complement(my_string)\n",
    "transcribe(my_string)\n",
    "back_transcribe(my_string)\n",
    "translate(my_string)"
   ]
  },
  {
   "cell_type": "code",
   "execution_count": null,
   "metadata": {},
   "outputs": [],
   "source": [
    "from Bio import SeqIO\n",
    "for seq_record in SeqIO.parse(\"/Users/denriquez/Library/CloudStorage/OneDrive-Personal/phyloseq0919/cg_project/rawdata/headermetadatacomplete_101223.fa\", \"fasta\"):\n",
    "    print(seq_record.id)\n",
    "    print(repr(seq_record.seq))\n",
    "    print(len(seq_record))"
   ]
  },
  {
   "cell_type": "markdown",
   "metadata": {},
   "source": [
    "#### 4. Sequence objects\n",
    "SeqRecord (Sequence record) - Bio.SeqRecord\n",
    "SeqFeature (identifiers and features)\n",
    "\n",
    "Attributes:\n",
    ".seq (sequence o Seq object)\n",
    ".id (string, example: accession number)\n",
    ".name  (string)\n",
    ".description (string)\n",
    ".letter_annotations (structured information, example quality scores)\n",
    ".annotations (additional unstructured information)\n",
    ".features (list of SeqFeatures objects, example positions)\n",
    ".dbxrefs (list of database cross-reference)\n"
   ]
  },
  {
   "cell_type": "code",
   "execution_count": 10,
   "metadata": {},
   "outputs": [
    {
     "name": "stdout",
     "output_type": "stream",
     "text": [
      "ID: ABC123\n",
      "Name: <unknown name>\n",
      "Description: I do not know what it is\n",
      "Number of features: 0\n",
      "/evidence=none.\n",
      "Per letter annotation for: phred_quality\n",
      "Seq('GATC')\n",
      "[40, 40, 38, 30]\n",
      "ID: gi|45478711|ref|NC_005816.1|\n",
      "Name: gi|45478711|ref|NC_005816.1|\n",
      "Description: gi|45478711|ref|NC_005816.1| Yersinia pestis biovar Microtus str. 91001 plasmid pPCP1, complete sequence\n",
      "Number of features: 0\n",
      "Seq('TGTAACGAACGGTGCAATAGTGATCCACACCCAACGCCTGAAATCAGATCCAGG...CTG')\n"
     ]
    }
   ],
   "source": [
    "# create a SeqRecord\n",
    "from Bio.Seq import Seq\n",
    "from Bio.SeqRecord import SeqRecord\n",
    "simpleseq=Seq(\"GATC\")\n",
    "simpleseq_record=SeqRecord(simpleseq)\n",
    "simpleseq_record.id=\"ABC123\"\n",
    "simpleseq_record.description=\"I do not know what it is\"\n",
    "simpleseq_record.annotations[\"evidence\"]=\"none.\"\n",
    "simpleseq_record.letter_annotations[\"phred_quality\"]=[40,40,38,30]\n",
    "print(simpleseq_record)\n",
    "print(simpleseq_record.letter_annotations[\"phred_quality\"])\n",
    "\n",
    "#Bio.SeqIO.parse to loop over all the records in  file\n",
    "from Bio import SeqIO\n",
    "record=SeqIO.read(\"NC_005816.fna\",\"fasta\")\n",
    "print(record)\n",
    "\n",
    "#also possible with genbank\n"
   ]
  },
  {
   "cell_type": "markdown",
   "metadata": {},
   "source": [
    "#SeqFeature\n",
    ".type (gene or CDS) \n",
    ".location\n",
    "    .ref or .location.ref (usually none)\n",
    "    .ref_db or .location.ref (usually none)\n",
    "    .strand or location.strand (1 for top, -1 for bottom, 0 for strand unknown, None if it it does not matter)\n",
    ".qualifiers (\"evidence\": \"computational(non-experimental)\")\n",
    ".sub_features (deprecated by CompoundLocation)\n",
    "\n",
    "# Position and locations\n",
    "position\n",
    "location (region bounded by positions)\n",
    " - SimpleLocation \n",
    " - CompundLocation\n",
    " - Fuzzy positions\n",
    "    * ExactPosition (number)\n",
    "    * BeforePosition (at some point prior to it, <13)\n",
    "    * AfterPosition (at some point after it, >13)\n",
    "    * WhitinPosition (somwhere between two specified nucleotides, (1.5))\n",
    "    * OneOfPosition (several values are possible)\n",
    "    * UnknownPosition (?)\n",
    "    "
   ]
  },
  {
   "cell_type": "code",
   "execution_count": 14,
   "metadata": {},
   "outputs": [
    {
     "name": "stdout",
     "output_type": "stream",
     "text": [
      "[>5:(8^9)]\n",
      ">5\n",
      "(8^9)\n"
     ]
    },
    {
     "data": {
      "text/plain": [
       "9"
      ]
     },
     "execution_count": 14,
     "metadata": {},
     "output_type": "execute_result"
    }
   ],
   "source": [
    "from Bio import SeqFeature\n",
    "start_pos=SeqFeature.AfterPosition(5)\n",
    "end_pos=SeqFeature.BetweenPosition(9, left=8,right=9)\n",
    "mylocation=SeqFeature.SimpleLocation(start_pos,end_pos)\n",
    "print(mylocation)\n",
    "print(mylocation.start)\n",
    "print(mylocation.end)\n",
    "int(mylocation.end) #integer"
   ]
  },
  {
   "cell_type": "code",
   "execution_count": 17,
   "metadata": {},
   "outputs": [
    {
     "ename": "NameError",
     "evalue": "name 'seqIO' is not defined",
     "output_type": "error",
     "traceback": [
      "\u001b[1;31m---------------------------------------------------------------------------\u001b[0m",
      "\u001b[1;31mNameError\u001b[0m                                 Traceback (most recent call last)",
      "\u001b[1;32mc:\\Users\\81805\\OneDrive\\vscode\\ncbi_search_1119.ipynb Cell 22\u001b[0m line \u001b[0;36m<cell line: 3>\u001b[1;34m()\u001b[0m\n\u001b[0;32m      <a href='vscode-notebook-cell:/c%3A/Users/81805/OneDrive/vscode/ncbi_search_1119.ipynb#X30sZmlsZQ%3D%3D?line=0'>1</a>\u001b[0m \u001b[39mfrom\u001b[39;00m \u001b[39mBio\u001b[39;00m \u001b[39mimport\u001b[39;00m SeqIO\n\u001b[0;32m      <a href='vscode-notebook-cell:/c%3A/Users/81805/OneDrive/vscode/ncbi_search_1119.ipynb#X30sZmlsZQ%3D%3D?line=1'>2</a>\u001b[0m mysnp\u001b[39m=\u001b[39m\u001b[39m4350\u001b[39m\n\u001b[1;32m----> <a href='vscode-notebook-cell:/c%3A/Users/81805/OneDrive/vscode/ncbi_search_1119.ipynb#X30sZmlsZQ%3D%3D?line=2'>3</a>\u001b[0m record\u001b[39m=\u001b[39mseqIO\u001b[39m.\u001b[39mread(\u001b[39m\"\u001b[39m\u001b[39mNC_005815.fna\u001b[39m\u001b[39m\"\u001b[39m,\u001b[39m\"\u001b[39m\u001b[39mfasta\u001b[39m\u001b[39m\"\u001b[39m)\n\u001b[0;32m      <a href='vscode-notebook-cell:/c%3A/Users/81805/OneDrive/vscode/ncbi_search_1119.ipynb#X30sZmlsZQ%3D%3D?line=3'>4</a>\u001b[0m \u001b[39mfor\u001b[39;00m feature \u001b[39min\u001b[39;00m record\u001b[39m.\u001b[39mfeatures:\n\u001b[0;32m      <a href='vscode-notebook-cell:/c%3A/Users/81805/OneDrive/vscode/ncbi_search_1119.ipynb#X30sZmlsZQ%3D%3D?line=4'>5</a>\u001b[0m     \u001b[39mif\u001b[39;00m mysnp \u001b[39min\u001b[39;00m feature:\n",
      "\u001b[1;31mNameError\u001b[0m: name 'seqIO' is not defined"
     ]
    }
   ],
   "source": [
    "from Bio import SeqIO\n",
    "mysnp=4350\n",
    "record=seqIO.read(\"NC_005816.fna\",\"fasta\")\n",
    "for feature in record.features:\n",
    "    if mysnp in feature:\n",
    "        print(\"%s %s\" % (feature.type, feature.qualifiers.get(\"deb_xref\")))"
   ]
  },
  {
   "cell_type": "code",
   "execution_count": 21,
   "metadata": {},
   "outputs": [
    {
     "name": "stdout",
     "output_type": "stream",
     "text": [
      "AGCCTTTGCCGTC\n",
      "AGCCTTTGCCGTC\n",
      "13\n",
      "13\n",
      "type: gene\n",
      "location: [5:18](-)\n",
      "qualifiers:\n",
      "\n",
      "13\n"
     ]
    }
   ],
   "source": [
    "# Extract sequences based on specific locations\n",
    "from Bio.Seq import Seq\n",
    "from Bio.SeqFeature import SeqFeature, SimpleLocation\n",
    "seq = Seq(\"ACCGAGACGGCAAAGGCTAGCATAGGTATGAGACTTCCTTCCTGCCAGTGCTGAGGAACTGGGAGCCTAC\")\n",
    "feature = SeqFeature(SimpleLocation(5, 18, strand=-1), type=\"gene\")\n",
    "\n",
    "feature_seq = seq[feature.location.start : feature.location.end].reverse_complement()\n",
    "print(feature_seq)\n",
    "print(feature.extract(seq))\n",
    "\n",
    "#all lenghts will be the same\n",
    "print(len(feature_seq))\n",
    "print(len(feature))\n",
    "print(feature)\n",
    "print(len(feature.location))\n",
    "\n"
   ]
  },
  {
   "cell_type": "code",
   "execution_count": 48,
   "metadata": {},
   "outputs": [
    {
     "name": "stdout",
     "output_type": "stream",
     "text": [
      ">gi|14150838|gb|AAK54648.1|AF376133_1 chalcone synthase [Cucumis sativus]\n",
      "MMYQQGCFAGGTVLRLAKDLAENNRGARVLVVCSEITAVTFRGPSETHLDSMVGQALFGD\n",
      "GAGAVIVGSDPDLSVERPLYELVWTGATLLPDSEGAIDGHLREVGLTFHLLKDVPGLISK\n",
      "NIEKSLKEAFTPLGISDWNSTFWIAHPGGPAILDQVEAKLGLKEEKMRATREVLSEYGNM\n",
      "SSAC\n",
      "\n",
      "type: gene\n",
      "location: [4342:4780](+)\n",
      "qualifiers:\n",
      "    Key: db_xref, Value: ['GeneID:2767712']\n",
      "    Key: gene, Value: ['pim']\n",
      "    Key: locus_tag, Value: ['YP_pPCP05']\n",
      "\n",
      "type: CDS\n",
      "location: [4342:4780](+)\n",
      "qualifiers:\n",
      "    Key: codon_start, Value: ['1']\n",
      "    Key: db_xref, Value: ['GI:45478716', 'GeneID:2767712']\n",
      "    Key: gene, Value: ['pim']\n",
      "    Key: locus_tag, Value: ['YP_pPCP05']\n",
      "    Key: note, Value: ['similar to many previously sequenced pesticin immunity protein entries of Yersinia pestis plasmid pPCP, e.g. gi| 16082683|,ref|NP_395230.1| (NC_003132) , gi|1200166|emb|CAA90861.1| (Z54145 ) , gi|1488655| emb|CAA63439.1| (X92856) , gi|2996219|gb|AAC62543.1| (AF053945) , and gi|5763814|emb|CAB531 67.1| (AL109969)']\n",
      "    Key: product, Value: ['pesticin immunity protein']\n",
      "    Key: protein_id, Value: ['NP_995571.1']\n",
      "    Key: transl_table, Value: ['11']\n",
      "    Key: translation, Value: ['MGGGMISKLFCLALIFLSSSGLAEKNTYTAKDILQNLELNTFGNSLSHGIYGKQTTFKQTEFTNIKSNTKKHIALINKDNSWMISLKILGIKRDEYTVCFEDFSLIRPPTYVAIHPLLIKKVKSGNFIVVKEIKKSIPGCTVYYH']\n",
      "\n",
      "ID: NC_005816.1\n",
      "Name: NC_005816\n",
      "Description: Yersinia pestis biovar Microtus str. 91001 plasmid pPCP1, complete sequence\n",
      "Number of features: 2\n",
      "/molecule_type=DNA\n",
      "Seq('ATAAATAGATTATTCCAAATAATTTATTTATGTAAGAACAGGATGGGAGGGGGA...TTA')\n",
      "type: gene\n",
      "location: [42:480](+)\n",
      "qualifiers:\n",
      "    Key: db_xref, Value: ['GeneID:2767712']\n",
      "    Key: gene, Value: ['pim']\n",
      "    Key: locus_tag, Value: ['YP_pPCP05']\n",
      "\n",
      "LOCUS       NC_005816                500 bp    DNA     linear   UNK 01-JAN-1980\n",
      "DEFINITION  Yersinia pestis What I think should describe.\n",
      "ACCESSION   NC_005816\n",
      "VERSION     NC_005816.1\n",
      "KEYWORDS    .\n",
      "SO...\n"
     ]
    }
   ],
   "source": [
    "#comparing objects\n",
    "from Bio.Seq import Seq\n",
    "from Bio.SeqRecord import SeqRecord\n",
    "record1=SeqRecord(Seq(\"ACGT\"),id=\"test\")\n",
    "record2=SeqRecord(Seq(\"ACGDT\"),id=\"test\")\n",
    "record1.id==record2.id #(it is necessary to specify the attributes to compare)\n",
    "record1.seq==record2.seq\n",
    "\n",
    "#For references Bio.SeqFeature.Reference\n",
    "# The format method\n",
    "from Bio.Seq import Seq\n",
    "from Bio.SeqRecord import SeqRecord\n",
    "record=SeqRecord(Seq(\"MMYQQGCFAGGTVLRLAKDLAENNRGARVLVVCSEITAVTFRGPSETHLDSMVGQALFGDGAGAVIVGSDPDLSVERPLYELVWTGATLLPDSEGAIDGHLREVGLTFHLLKDVPGLISKNIEKSLKEAFTPLGISDWNSTFWIAHPGGPAILDQVEAKLGLKEEKMRATREVLSEYGNMSSAC\"),id=\"gi|14150838|gb|AAK54648.1|AF376133_1\", description=\"chalcone synthase [Cucumis sativus]\")\n",
    "print(record.format(\"fasta\"))\n",
    "\n",
    "#Slicing a sequence with records\n",
    "from Bio import SeqIO\n",
    "from Bio.SeqFeature import SeqFeature, SimpleLocation\n",
    "record=SeqIO.read(\"NC_005816.gb\",\"genbank\")\n",
    "feature = SeqFeature(SimpleLocation(5, 18, strand=-1), type=\"gene\")\n",
    "len(record.features)\n",
    "print(record.features[20])\n",
    "print(record.features[21])\n",
    "\n",
    "sub_record=record[4300:4800]\n",
    "print(sub_record)\n",
    "len(sub_record)\n",
    "len(sub_record.features)\n",
    "print(sub_record.features[0])\n",
    "sub_record.annotations\n",
    "sub_record.dbxrefs\n",
    "sub_record.annotations[\"topology\"]=\"linear\"\n",
    "\n",
    "#we need to change the description\n",
    "sub_record.description=\"Yersinia pestis What I think should describe\"\n",
    "print(sub_record.format(\"genbank\")[:200]+\"...\")\n"
   ]
  },
  {
   "cell_type": "code",
   "execution_count": 62,
   "metadata": {},
   "outputs": [
    {
     "name": "stdout",
     "output_type": "stream",
     "text": [
      "ID: gi|14150838|gb|AAK54648.1|AF376133_1\n",
      "Name: <unknown name>\n",
      "Description: chalcone synthase [Cucumis sativus]\n",
      "Number of features: 0\n",
      "Seq('MMYQQGCFAGGTVLRLAKDLENNRGARVLVVCSEITAVTFRGPSETHLDSMVGQ...SAC')\n",
      "NC_005816.1 9609 41 1 13\n",
      "TESTING 9609 41 0 0\n"
     ]
    }
   ],
   "source": [
    "\n",
    "#To Add SeqRecord Objects\n",
    "from Bio.Seq import Seq\n",
    "from Bio.SeqRecord import SeqRecord\n",
    "record=SeqRecord(Seq(\"MMYQQGCFAGGTVLRLAKDLAENNRGARVLVVCSEITAVTFRGPSETHLDSMVGQALFGDGAGAVIVGSDPDLSVERPLYELVWTGATLLPDSEGAIDGHLREVGLTFHLLKDVPGLISKNIEKSLKEAFTPLGISDWNSTFWIAHPGGPAILDQVEAKLGLKEEKMRATREVLSEYGNMSSAC\"),id=\"gi|14150838|gb|AAK54648.1|AF376133_1\", description=\"chalcone synthase [Cucumis sativus]\")\n",
    "edited=record[:20]+record[21:]\n",
    "edited.dbxrefs\n",
    "print(edited)\n",
    "\n",
    "#to preserve the annotations, it is necessary to do it manually\n",
    "edited.dbxrefs=record.dbxrefs[:]\n",
    "edited.annotations=record.annotations.copy()\n",
    "edited.annotations.keys()\n",
    "\n",
    "# reverse-complementing objects\n",
    "from Bio import SeqIO\n",
    "record = SeqIO.read(\"NC_005816.gb\", \"genbank\")\n",
    "print(\"%s %i %i %i %i\" % (record.id, len(record), len(record.features), len(record.dbxrefs), len(record.annotations)))\n",
    "rc = record.reverse_complement(id=\"TESTING\")\n",
    "print(\"%s %i %i %i %i\" % (rc.id, len(rc), len(rc.features), len(rc.dbxrefs), len(rc.annotations)))"
   ]
  }
 ],
 "metadata": {
  "kernelspec": {
   "display_name": "Python 3",
   "language": "python",
   "name": "python3"
  },
  "language_info": {
   "codemirror_mode": {
    "name": "ipython",
    "version": 3
   },
   "file_extension": ".py",
   "mimetype": "text/x-python",
   "name": "python",
   "nbconvert_exporter": "python",
   "pygments_lexer": "ipython3",
   "version": "3.9.12"
  }
 },
 "nbformat": 4,
 "nbformat_minor": 2
}
