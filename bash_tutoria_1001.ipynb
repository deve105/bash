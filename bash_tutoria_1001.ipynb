{
 "cells": [
  {
   "cell_type": "markdown",
   "metadata": {},
   "source": [
    "\n",
    "A FASTQ file normally uses four lines per sequence.\n",
    "\n",
    "- Line 1 begins with a '@' character and is followed by a series of information that uniquely identifies each read.\n",
    "\n",
    "@HWI-ST1097:127:C0W5VACXX:5:1101:4820:2124 1:N:0:CTCAGA\n",
    "@SRR534005.299 HWI-ST945:93:c02g4acxx:3:1101:16012:2225/1\n",
    "\n",
    "- Line 2 is the raw sequence. The lenght of this sequence should correspond to the length of the read requested.\n",
    "\n",
    "- Line 3 is always '+' for output from the Illumina.\n",
    "\n",
    "- Line 4 is a string of Ascii-encoded base quality scores."
   ]
  },
  {
   "cell_type": "markdown",
   "metadata": {},
   "source": [
    "# Running trimmomatic in a loop\n",
    "for R1 in *R1*\n",
    "do\n",
    "   R2=${R1//R1_001_small.fastq/R2_001_small.fastq}\n",
    "   R1paired=${R1//.fastq/_paired.fastq.gz}\n",
    "   R1unpaired=${R1//.fastq/_unpaired.fastq.gz}\t\n",
    "   R2paired=${R2//.fastq/_paired.fastq.gz}\n",
    "   R2unpaired=${R2//.fastq/_unpaired.fastq.gz}\t\n",
    "   echo \"java -jar $WORK/IntMolModule/STG/practiceData/Trimmomatic-0.36/trimmomatic-0.36.jar PE -threads 32 -phred33 $R1 $R2 $R1paired $R1unpaired $R2paired $R2unpaired\" >> trimmomatic.cmds\n",
    "done\n",
    "cat trimmomatic.cmds"
   ]
  },
  {
   "cell_type": "markdown",
   "metadata": {},
   "source": [
    "wget http://kandurilab.org/users/santhilal/courses/UNIX/materials/course_file_repo.zip\n",
    "\n",
    "Onedrive\n",
    "wget -qO - https://download.opensuse.org/repositories/home:/npreining:/debian-ubuntu-onedrive/xUbuntu_22.04/Release.key | gpg --dearmor | sudo tee /usr/share/keyrings/obs-onedrive.gpg > /dev/null\n",
    "\n",
    "echo \"deb [arch=$(dpkg --print-architecture) signed-by=/usr/share/keyrings/obs-onedrive.gpg] https://download.opensuse.org/repositories/home:/npreining:/debian-ubuntu-onedrive/xUbuntu_22.04/./\" | sudo tee /etc/apt/sources.list.d/onedrive.list\n"
   ]
  },
  {
   "cell_type": "markdown",
   "metadata": {},
   "source": [
    "Cat  | xargs Rscript --vanilla pipeline.R \n",
    "\n",
    "#Read the sample from the command line\n",
    "sranumber<-commandArgs(trailingOnly=TRUE) \n",
    "print(sranumber)\n",
    "#Function Idk yet\n",
    "execute<-function(x, outputfile=NA, intern=FALSE, quitOnError=FALSE){\n",
    "  if(!is.na(outputfile) &&file.exists(outputfile)){\n",
    "    cat(\"Output for step exists, skipping this step\\n\");\n",
    "    invisible(\"\")\n",
    "  }\n",
    "  cat(\"----\", x, \"\\n\"); res<-system(x, intern=intern); cat(\">>>>\", res[1], \"\\n\")\n",
    "  if(res[1] >=1){ \n",
    "    cat(\"Error external process did not finish\\n\\n\");\n",
    "    if(quitOnError) q(\"no\")\n",
    "  }\n",
    "}\n",
    "\n",
    "input.dir<-\"/home/dev105/projects/rawdata\"\n",
    "input.base<-sranumber[1]\n",
    "output.dir<-paste0(\"/home/dev105/projects/outputdata/\", input.base,\".aln\")\n",
    "\n",
    "#Create an output folder\n",
    "if(!file.exists(input.dir)){ dir.create(input.dir, recursive=TRUE) }\n",
    "if(!file.exists(output.dir)){ dir.create(output.dir, recursive=TRUE) }\n",
    "\n",
    "#STEP 0 - SRA Download and Compress\n",
    "setwd(input.dir)\n",
    "execute(paste0(\" -p\", input.base)\n",
    "execute(paste0(\"fasterq-dump -p --split-files \", input.base), paste0(input.base, \"_1.fastq\"))\n",
    "execute(paste0(\"bgzip \", input.base, \"_1.fastq\"), paste0(input.base, \"_1.fastq.gz\"))\n",
    "execute(paste0(\"bgzip \", input.base, \"_2.fastq\"), paste0(input.base, \"_2.fastq.gz\"))\n",
    "\n",
    "#STEP 1 - READ Trimming\n",
    "trim.files<-c(\n",
    "                  paste0(input.dir, \"/\", input.base,\"_1.fastq.gz\"),\n",
    "                  paste0(input.dir, \"/\", input.base,\"_2.fastq.gz\"),\n",
    "                  paste0(output.dir, \"/\", input.base,\"_1.P.fastq.gz\"),\n",
    "                  paste0(output.dir, \"/\", input.base,\"_1.U.fastq.gz\"),\n",
    "                  paste0(output.dir, \"/\", input.base,\"_2.P.fastq.gz\"),\n",
    "                  paste0(output.dir, \"/\", input.base,\"_2.U.fastq.gz\")\n",
    "                )\n",
    "trim.path<-\"/home/dev105/devapps/Trimmomatic-0.39\"\n",
    "trim.exec<-paste0(\"java -jar \", trim.path, \"/trimmomatic-0.39.jar\")\n",
    "trim.opts<-paste0(\"ILLUMINACLIP:\",trim.path,\"/adapters/TruSeq3-PE-2.fa:2:30:10\")\n",
    "trim.opts<-paste0(trim.opts, \"LEADING:3 TRAILING:3 SLIDINGWINDOW:4:15 MINLEN:36\")\n",
    "trim.cmd<-paste0(trim.exec, \"PE \", paste0(trim.files, collapse=\"\"), \"\", trim.opts)\n",
    "\n",
    "execute(trim.cmd, trim.files[3])\n",
    "\n",
    "q(\"no\")"
   ]
  }
 ],
 "metadata": {
  "language_info": {
   "name": "python"
  },
  "orig_nbformat": 4
 },
 "nbformat": 4,
 "nbformat_minor": 2
}
