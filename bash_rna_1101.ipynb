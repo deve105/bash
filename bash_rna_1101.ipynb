whoami, pwd, ls, ls -l


sudo apt install openjdk-17-jdk
https://gist.github.com/DannyArends/04d87f5590090dfe0dc6b42e5e1bbe15
RNA Sequencing - Setup and Prerequisites

https://www.youtube.com/watch?v=PlqDQBl22DI&t=14s

How to manipulate gene expression data from NCBI GEO in R using dplyr | Bioinformatics for beginners



https://www.ncbi.nlm.nih.gov/geo/query/acc.cgi?acc=GSE19080



Stem-like exhausted and memory CD8+ T cells in cancer
In vivo clinical molecular imaging of T cell activity


Sudo make install

export PATH=$PATH:/home/dev105/devapps/STAR/source


Cat  | xargs Rscript --vanilla pipeline.R 

#Read the sample from the command line
sranumber<-commandArgs(trailingOnly=TRUE) 
print(sranumber)
#Function Idk yet
execute<-function(x, outputfile=NA, intern=FALSE, quitOnError=FALSE){
  if(!is.na(outputfile) &&file.exists(outputfile)){
    cat("Output for step exists, skipping this step\n");
    invisible("")
  }
  cat("----", x, "\n"); res<-system(x, intern=intern); cat(">>>>", res[1], "\n")
  if(res[1] >=1){ 
    cat("Error external process did not finish\n\n");
    if(quitOnError) q("no")
  }
}

input.dir<-"/home/dev105/projects/rawdata"
input.base<-sranumber[1]
output.dir<-paste0("/home/dev105/projects/outputdata/", input.base,".aln")

#Create an output folder
if(!file.exists(input.dir)){ dir.create(input.dir, recursive=TRUE) }
if(!file.exists(output.dir)){ dir.create(output.dir, recursive=TRUE) }

#STEP 0 - SRA Download and Compress
setwd(input.dir)
execute(paste0("prefetch -p", input.base)
execute(paste0("fasterq-dump -p --split-files ", input.base), paste0(input.base, "_1.fastq"))
execute(paste0("bgzip ", input.base, "_1.fastq"), paste0(input.base, "_1.fastq.gz"))
execute(paste0("bgzip ", input.base, "_2.fastq"), paste0(input.base, "_2.fastq.gz"))

#STEP 1 - READ Trimming
trim.files<-c(
                  paste0(input.dir, "/", input.base,"_1.fastq.gz"),
                  paste0(input.dir, "/", input.base,"_2.fastq.gz"),
                  paste0(output.dir, "/", input.base,"_1.P.fastq.gz"),
                  paste0(output.dir, "/", input.base,"_1.U.fastq.gz"),
                  paste0(output.dir, "/", input.base,"_2.P.fastq.gz"),
                  paste0(output.dir, "/", input.base,"_2.U.fastq.gz")
                )
trim.path<-"/home/dev105/devapps/Trimmomatic-0.39"
trim.exec<-paste0("java -jar ", trim.path, "/trimmomatic-0.39.jar")
trim.opts<-paste0("ILLUMINACLIP:",trim.path,"/adapters/TruSeq3-PE-2.fa:2:30:10")
trim.opts<-paste0(trim.opts, "LEADING:3 TRAILING:3 SLIDINGWINDOW:4:15 MINLEN:36")
trim.cmd<-paste0(trim.exec, "PE ", paste0(trim.files, collapse=""), "", trim.opts)

execute(trim.cmd, trim.files[3])

q("no")



My index for genome star alignment
https://labshare.cshl.edu/shares/gingeraslab/www-data/dobin/STAR/STARgenomes/Human/
https://data.broadinstitute.org/Trinity/
https://hgdownload.soe.ucsc.edu/goldenPath/hg38/bigZips/




