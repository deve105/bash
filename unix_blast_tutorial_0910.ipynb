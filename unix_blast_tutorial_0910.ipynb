{
 "cells": [
  {
   "cell_type": "markdown",
   "id": "3d700e2f-4c38-4292-a311-333ce9ff7a56",
   "metadata": {},
   "source": [
    "# BLAST+ Tutorial \n",
    "\n",
    "(*essential*)  \n",
    "\n",
    "BLAST+ allows you to search similar sequences (DNA or protein) using the command line.\n",
    "* A high-scoring pair (HSP): A close match segment between sequences.\n",
    "* Most common BLAST tools:\n",
    "  |Program|Query|Subject|\n",
    "  |:-----|:-----:|-----:|\n",
    "  |blastn|N|N|\n",
    "  |blastp|P|P|\n",
    "  |blastx|N|P|\n",
    "  |tblastn|P|N|\n",
    "  |tblastx|N|N|\n",
    "\n",
    "## Installation Linux\n",
    "\n",
    "There is a list of versions in this [link](https://ftp.ncbi.nlm.nih.gov/blast/executables/blast+/)\n",
    "\n",
    "* First, we need to open the terminal and change directory to the desired directory.\n",
    "  > cd our/desired/path\n",
    "  > cd ~/devapps\n",
    "* then wget to download the last version\n",
    "  > wget https://ftp.ncbi.nlm.nih.gov/blast/executables/blast+/2.10.0/ncbi-blast-2.10.0+-x64-linux.tar.gz\n",
    "* decompress it, then go to the bin subfolder, and finally pwd (copy this)\n",
    "  > tar xvfz ncbi-blast-2.10.0+-x64-linux.tar.gz\n",
    "  > cd ncbi-blast-2.10.0+/bin \n",
    "  > pwd\n",
    "*add to the path\n",
    "  > nano ~/.bashrc\n",
    "  > export PATH=\"/home/dev105/devapps/ncbi-blast-2.10.0+/bin\":$PATH\n",
    "\n",
    "\n",
    "   \n",
    "\n",
    "  There are others type of BLAST tools: psiblast, deltablast, rpsblast\n",
    "  \n",
    "1. Create a Database\n",
    "   First we need to create a merged file (fasta) from all reference genomes.\n",
    "   In this tutorial, we are going to use reference genomes of HTLV-1.\n",
    "   >makeblastdb -in sequences.fa -dbtype aa\n",
    "   \n",
    "3. Search it with BLAST+\n",
    "   >blastn -query sequences.fa -db sequences -out outputfile -outfmt 6\n",
    "   >less outputfile.txt\n",
    "\n",
    "\n",
    "* [NCBI manual](https://www.ncbi.nlm.nih.gov/books/NBK279690/)\n",
    "* [Angus Workshop](https://angus.readthedocs.io/en/2019/index.html)\n"
   ]
  },
  {
   "cell_type": "code",
   "execution_count": null,
   "id": "1f57dc5f",
   "metadata": {
    "vscode": {
     "languageId": "plaintext"
    }
   },
   "outputs": [],
   "source": [
    "## Installing NEXTFLOW\n",
    "#bash for optia, install first SDKMANN\n",
    "curl -s \"https://get.sdkman.io\" | bash\n",
    "#After installing SDKMANN\n",
    "source \"/home/dev105/.sdkman/bin/sdkman-init.sh\"\n",
    "\n",
    "https://www.nextflow.io/docs/latest/container.html\n",
    "\n",
    "https://nf-co.re/epitopeprediction/2.3.0/parameters\n",
    "https://nf-co.re/vipr/dev\n",
    "\n",
    "\n",
    "## install singularity\n",
    "https://singularity-tutorial.github.io/01-installation/\n",
    "\n",
    "sudo apt-get install -y build-essential libssl-dev uuid-dev libgpgme11-dev \\\n",
    "    squashfs-tools libseccomp-dev wget pkg-config git cryptsetup debootstrap\n",
    "\n",
    "    $ wget https://dl.google.com/go/go1.13.linux-amd64.tar.gz\n",
    "\n",
    "$ sudo tar --directory=/usr/local -xzvf go1.13.linux-amd64.tar.gz\n",
    "\n",
    "$ export PATH=/usr/local/go/bin:$PATH\n",
    "\n",
    "export NXF_SINGULARITY_CACHEDIR=/media/dev105/HD-PCGU3-A/singularity/nxf\n",
    "\n"
   ]
  }
 ],
 "metadata": {
  "kernelspec": {
   "display_name": "Python 3 (ipykernel)",
   "language": "python",
   "name": "python3"
  },
  "language_info": {
   "codemirror_mode": {
    "name": "ipython",
    "version": 3
   },
   "file_extension": ".py",
   "mimetype": "text/x-python",
   "name": "python",
   "nbconvert_exporter": "python",
   "pygments_lexer": "ipython3",
   "version": "3.10.12"
  }
 },
 "nbformat": 4,
 "nbformat_minor": 5
}
