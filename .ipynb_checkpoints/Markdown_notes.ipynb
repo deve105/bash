{
 "cells": [
  {
   "cell_type": "code",
   "execution_count": null,
   "id": "36b166b9",
   "metadata": {},
   "outputs": [],
   "source": [
    "# Hello World\n",
    "\n",
    "*Note: Description* -> italicized\n",
    "**bold**\n",
    "***nested***\n",
    "## Subtitle\n",
    "bla bla\n",
    "### More Subtitles\n",
    "bla bla bla\n",
    "1. uno\n",
    "2. dos\n",
    "3. tres\n",
    "\n",
    "! -> bash command\n",
    "#magics\n",
    "% -> came from the same line *line magics*\n",
    "%lsmagic\n",
    "%pwd\n",
    "%ls -la\n",
    "%% -> the entire cell will be the source *cell magic*\n",
    "%matplotlib inline\n",
    "%HTML\n",
    "ipython\n",
    "\n",
    "###### to use snakemake\n",
    "After installing mambaforge\n",
    "It is necessary to add it to the path in windows (advanced settings)\n",
    "then run $mamba create -c conda-forge -c bioconda -n snakemake snakemake"
   ]
  }
 ],
 "metadata": {
  "language_info": {
   "name": "python"
  }
 },
 "nbformat": 4,
 "nbformat_minor": 5
}
