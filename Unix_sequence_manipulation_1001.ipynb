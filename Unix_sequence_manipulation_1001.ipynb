{
 "cells": [
  {
   "cell_type": "markdown",
   "metadata": {},
   "source": [
    "https://github.com/OpenGene/fastp\n",
    "https://rdrr.io/cran/phylotools/man/rename.fasta.html\n",
    "https://unix.stackexchange.com/questions/163481/a-command-to-print-only-last-3-characters-of-a-string\n",
    "\n",
    "https://www.jalview.org/download/windows/\n",
    "https://rdrr.io/cran/phylotools/man/rename.fasta.html\n",
    "\n",
    "Spades\n",
    "Contig + gaps -> Scaffold\n",
    "TotalContigLength(t)\n",
    "N50\n",
    "Quast\n",
    "Prokka\n",
    "IGV\n",
    "\n",
    "https://andersen-lab.github.io/ivar/html/manualpage.html\n",
    "https://snakemake.readthedocs.io/en/stable/tutorial/basics.html\n",
    "https://snakemake-snakemaketuto-jyhsgw9gkri.ws-us104.gitpod.io/\n",
    "https://snakemake.github.io/\n",
    "https://www.youtube.com/@sanbomics\n",
    "\n",
    "https://biomedicalhub.github.io/genomics/04-part4-denovo-assembly.html\n",
    "\n",
    "https://github.com/LANL-Bioinformatics/PhaME/tree/master"
   ]
  },
  {
   "cell_type": "markdown",
   "metadata": {},
   "source": []
  },
  {
   "cell_type": "code",
   "execution_count": null,
   "metadata": {
    "vscode": {
     "languageId": "shellscript"
    }
   },
   "outputs": [],
   "source": [
    "\n",
    "### in paralel, doing table with metadata\n",
    "first \n",
    "sort -k1 4listfin >  4listfinsorted\n",
    "sort -k1 Columnsfinal.txt > x4listsorted\n",
    "##manual of uniq deletes repeated lines in a file\n",
    "man uniq \n",
    "sort combined.txt | less\n",
    "You should be able to see that the lines have been reordered\n",
    "sort combined.txt | uniq | wc -l\n",
    "\n",
    "Check what are the genes repeated in the list 'ambiguous.list' (duplicates),\n",
    "\n",
    "$$ cat ambiguous.list | sort | uniq -d  *repeted*\n",
    "\n",
    "cat 4listfinsorted | sort | uniq -d\n",
    "cat 4listfinsorted | sort | uniq -u\n",
    "\n",
    "$$ cat ambiguous.list | sort | uniq -u *only unique lines*\n",
    "Making a list without any duplicate gene entries. By default 'uniq' command gives you the unique entries from the file (even without using -u argument). Tip: you save any commands output just by using '>' (redirection) followed by new/output filename.\n",
    "\n",
    "graphic 1 -3 -2\n",
    "first sort lists\n",
    "Overapped genes between H0 and H12 gene lists (suppress unique genes from 1 and 2)\n",
    "$$ comm -12 H0_sorted.list H12_sorted.list | wc -l\n",
    "\n",
    "comm -12 4listfinsorted x4listsorted | wc -l\n",
    "\n",
    "Genes unique to H0 (suppress unique genes from 2 and 3)\n",
    "$$ comm -23 H0_sorted.list H12_sorted.list | wc -l\n",
    "Genes unique to H12 (suppress unique genes from 1 and 3)\n",
    "$$ comm -13 H0_sorted.list H12_sorted.list | wc -l\n",
    "\n",
    "Merge two files with specified column\n",
    "You will find some list of genes which are differentially expressed in some experiment or analysis. We are going to annotate or add more information to those gene list using our file 'Homo_sapiens.GRCh38.87_annotation.table' which contains gene level annotation.\n",
    "Two step process: (Some times this will not work on Windows Bash)\n",
    "\n",
    "$$ sort -k1 annotation/Homo_sapiens.GRCh38.87_annotation.table > annotation/Homo_sapiens.GRCh38.87_annotation_sorted.table\n",
    "$$ sort -k1 DEG_results/DiffExpressed_gene.list > DEG_results/DiffExpressed_gene_sorted.list\n",
    "$$ join annotation/Homo_sapiens.GRCh38.87_annotation_sorted.table DEG_results/DiffExpressed_gene_sorted.list -t $'\\t' > DEG_results/DiffExpressed_gene.list.annotated\n",
    "One step process:\n",
    "\n",
    "join  4listfinsorted x4listsorted -t $'\\t' > 4joinedlist\n",
    "failed\n",
    "csvjoin -H --tabs --left -c 1,1 4listfinsorted x4listsorted > 4joinedlist\n",
    "sed -i 's/\\r//' 4listfinsorted\n",
    "sed -i 's/\\r//' x4listsorted\n",
    "join -j 1 -o auto -t, 4listfinsorted x4listsorted  > 4joinedlist\n",
    "join - 4listfinsorted x4listsorted  -a 2 > 4joinedlist\n",
    "\n",
    "$$ join <(sort annotation/Homo_sapiens.GRCh38.87_annotation.table) <(sort DEG_results/DiffExpressed_gene.list) -t $'\\t' > DEG_results/DiffExpressed_gene.list.annotated\n",
    "Insert the column header:\n",
    "\n",
    "$$ cat DEG_results/DiffExpressed_gene.list.annotated | head # Check the contents of annotated file\n",
    "$$ sed -i '1i\\Geneid\\tGeneSymbol\\tChromosome\\tClass\\tStrand\\tLength' DEG_results/DiffExpressed_gene.list.annotated # insert required column headers\n"
   ]
  },
  {
   "cell_type": "markdown",
   "metadata": {},
   "source": []
  }
 ],
 "metadata": {
  "language_info": {
   "name": "python"
  }
 },
 "nbformat": 4,
 "nbformat_minor": 2
}
